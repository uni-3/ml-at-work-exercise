{
  "nbformat": 4,
  "nbformat_minor": 0,
  "metadata": {
    "colab": {
      "name": "2.ipynb",
      "version": "0.3.2",
      "provenance": [],
      "collapsed_sections": [],
      "include_colab_link": true
    },
    "kernelspec": {
      "name": "python3",
      "display_name": "Python 3"
    }
  },
  "cells": [
    {
      "cell_type": "markdown",
      "metadata": {
        "id": "view-in-github",
        "colab_type": "text"
      },
      "source": [
        "<a href=\"https://colab.research.google.com/github/uni-3/ml-at-work-exercise/blob/master/notebooks/2.ipynb\" target=\"_parent\"><img src=\"https://colab.research.google.com/assets/colab-badge.svg\" alt=\"Open In Colab\"/></a>"
      ]
    },
    {
      "metadata": {
        "id": "qiTn5WuBfz6N",
        "colab_type": "text"
      },
      "cell_type": "markdown",
      "source": [
        "### 7章 映画の推薦システムを作る\n",
        "p 131\n",
        "\n",
        "eコマースにおける推薦システムの活用場所\n",
        "\n",
        "- 概要推薦：broad recommendation\n",
        "\n",
        "  特集とか大まかな推薦、初心者ユーザ向け\n",
        "- 利用者評価：user comments and rating\n",
        "\n",
        "  他者の評価やコメントを表示するなど\n",
        "- 通知：notification service\n",
        "\n",
        "  pushする\n",
        "- 関連アイテム推薦：item-associated recommendation\n",
        "\n",
        "  表示したアイテムに基づく\n",
        "- パーソナライゼーション：deep personalization\n",
        "\n",
        "  個人の履歴に基づく"
      ]
    },
    {
      "metadata": {
        "id": "uWwRJNtNiN-8",
        "colab_type": "text"
      },
      "cell_type": "markdown",
      "source": [
        "#### p142"
      ]
    },
    {
      "metadata": {
        "id": "bjIB8wTVfxgZ",
        "colab_type": "code",
        "colab": {}
      },
      "cell_type": "code",
      "source": [
        "# download data\n",
        "import urllib.request\n",
        "import zipfile\n",
        "zfile = './ml-100k.zip'\n",
        "urllib.request.urlretrieve('http://files.grouplens.org/papers/ml-100k.zip'\n",
        "                           , zfile)\n",
        "\n",
        "with zipfile.ZipFile(zfile) as z:\n",
        "    z.extractall('./')"
      ],
      "execution_count": 0,
      "outputs": []
    },
    {
      "metadata": {
        "id": "iQs-fPTfjyvK",
        "colab_type": "code",
        "outputId": "e959d9ef-ce30-43a4-85d8-faf9b3bfc51c",
        "colab": {
          "base_uri": "https://localhost:8080/",
          "height": 34
        }
      },
      "cell_type": "code",
      "source": [
        "!ls"
      ],
      "execution_count": 0,
      "outputs": [
        {
          "output_type": "stream",
          "text": [
            "ml-100k  ml-100k.zip  sample_data\n"
          ],
          "name": "stdout"
        }
      ]
    },
    {
      "metadata": {
        "id": "eJayv1fBkCLA",
        "colab_type": "code",
        "colab": {}
      },
      "cell_type": "code",
      "source": [
        "import pandas as pd\n",
        "import numpy as np\n",
        "from matplotlib import pyplot as plt\n",
        "plt.style.use('ggplot')"
      ],
      "execution_count": 0,
      "outputs": []
    },
    {
      "metadata": {
        "id": "FcWG6nBgkITi",
        "colab_type": "code",
        "outputId": "e38f6383-f12e-45ba-a929-7a22ad42dfec",
        "colab": {
          "base_uri": "https://localhost:8080/",
          "height": 204
        }
      },
      "cell_type": "code",
      "source": [
        "# load data\n",
        "u_cols = ['user_id', 'age', 'sex', 'occupation', 'zip_code']\n",
        "\n",
        "df_users = pd.read_csv('./ml-100k/u.user', sep='|', names=u_cols)\n",
        "df_users.head()"
      ],
      "execution_count": 0,
      "outputs": [
        {
          "output_type": "execute_result",
          "data": {
            "text/html": [
              "<div>\n",
              "<style scoped>\n",
              "    .dataframe tbody tr th:only-of-type {\n",
              "        vertical-align: middle;\n",
              "    }\n",
              "\n",
              "    .dataframe tbody tr th {\n",
              "        vertical-align: top;\n",
              "    }\n",
              "\n",
              "    .dataframe thead th {\n",
              "        text-align: right;\n",
              "    }\n",
              "</style>\n",
              "<table border=\"1\" class=\"dataframe\">\n",
              "  <thead>\n",
              "    <tr style=\"text-align: right;\">\n",
              "      <th></th>\n",
              "      <th>user_id</th>\n",
              "      <th>age</th>\n",
              "      <th>sex</th>\n",
              "      <th>occupation</th>\n",
              "      <th>zip_code</th>\n",
              "    </tr>\n",
              "  </thead>\n",
              "  <tbody>\n",
              "    <tr>\n",
              "      <th>0</th>\n",
              "      <td>1</td>\n",
              "      <td>24</td>\n",
              "      <td>M</td>\n",
              "      <td>technician</td>\n",
              "      <td>85711</td>\n",
              "    </tr>\n",
              "    <tr>\n",
              "      <th>1</th>\n",
              "      <td>2</td>\n",
              "      <td>53</td>\n",
              "      <td>F</td>\n",
              "      <td>other</td>\n",
              "      <td>94043</td>\n",
              "    </tr>\n",
              "    <tr>\n",
              "      <th>2</th>\n",
              "      <td>3</td>\n",
              "      <td>23</td>\n",
              "      <td>M</td>\n",
              "      <td>writer</td>\n",
              "      <td>32067</td>\n",
              "    </tr>\n",
              "    <tr>\n",
              "      <th>3</th>\n",
              "      <td>4</td>\n",
              "      <td>24</td>\n",
              "      <td>M</td>\n",
              "      <td>technician</td>\n",
              "      <td>43537</td>\n",
              "    </tr>\n",
              "    <tr>\n",
              "      <th>4</th>\n",
              "      <td>5</td>\n",
              "      <td>33</td>\n",
              "      <td>F</td>\n",
              "      <td>other</td>\n",
              "      <td>15213</td>\n",
              "    </tr>\n",
              "  </tbody>\n",
              "</table>\n",
              "</div>"
            ],
            "text/plain": [
              "   user_id  age sex  occupation zip_code\n",
              "0        1   24   M  technician    85711\n",
              "1        2   53   F       other    94043\n",
              "2        3   23   M      writer    32067\n",
              "3        4   24   M  technician    43537\n",
              "4        5   33   F       other    15213"
            ]
          },
          "metadata": {
            "tags": []
          },
          "execution_count": 4
        }
      ]
    },
    {
      "metadata": {
        "id": "jMpUCVx3kbHo",
        "colab_type": "code",
        "outputId": "02bcb2e3-cc88-4c7f-cb89-cfd3d62c3104",
        "colab": {
          "base_uri": "https://localhost:8080/",
          "height": 204
        }
      },
      "cell_type": "code",
      "source": [
        "r_cols = ['user_id', 'movie_id', 'rating', 'unix_timestamp']\n",
        "\n",
        "# convert unix_timestamp to date \n",
        "df_ratings = pd.read_csv('./ml-100k/u.data', sep='\\t', names=r_cols)\n",
        "df_ratings['date'] = pd.to_datetime(df_ratings['unix_timestamp'], unit='s')\n",
        "df_ratings.head()"
      ],
      "execution_count": 0,
      "outputs": [
        {
          "output_type": "execute_result",
          "data": {
            "text/html": [
              "<div>\n",
              "<style scoped>\n",
              "    .dataframe tbody tr th:only-of-type {\n",
              "        vertical-align: middle;\n",
              "    }\n",
              "\n",
              "    .dataframe tbody tr th {\n",
              "        vertical-align: top;\n",
              "    }\n",
              "\n",
              "    .dataframe thead th {\n",
              "        text-align: right;\n",
              "    }\n",
              "</style>\n",
              "<table border=\"1\" class=\"dataframe\">\n",
              "  <thead>\n",
              "    <tr style=\"text-align: right;\">\n",
              "      <th></th>\n",
              "      <th>user_id</th>\n",
              "      <th>movie_id</th>\n",
              "      <th>rating</th>\n",
              "      <th>unix_timestamp</th>\n",
              "      <th>date</th>\n",
              "    </tr>\n",
              "  </thead>\n",
              "  <tbody>\n",
              "    <tr>\n",
              "      <th>0</th>\n",
              "      <td>196</td>\n",
              "      <td>242</td>\n",
              "      <td>3</td>\n",
              "      <td>881250949</td>\n",
              "      <td>1997-12-04 15:55:49</td>\n",
              "    </tr>\n",
              "    <tr>\n",
              "      <th>1</th>\n",
              "      <td>186</td>\n",
              "      <td>302</td>\n",
              "      <td>3</td>\n",
              "      <td>891717742</td>\n",
              "      <td>1998-04-04 19:22:22</td>\n",
              "    </tr>\n",
              "    <tr>\n",
              "      <th>2</th>\n",
              "      <td>22</td>\n",
              "      <td>377</td>\n",
              "      <td>1</td>\n",
              "      <td>878887116</td>\n",
              "      <td>1997-11-07 07:18:36</td>\n",
              "    </tr>\n",
              "    <tr>\n",
              "      <th>3</th>\n",
              "      <td>244</td>\n",
              "      <td>51</td>\n",
              "      <td>2</td>\n",
              "      <td>880606923</td>\n",
              "      <td>1997-11-27 05:02:03</td>\n",
              "    </tr>\n",
              "    <tr>\n",
              "      <th>4</th>\n",
              "      <td>166</td>\n",
              "      <td>346</td>\n",
              "      <td>1</td>\n",
              "      <td>886397596</td>\n",
              "      <td>1998-02-02 05:33:16</td>\n",
              "    </tr>\n",
              "  </tbody>\n",
              "</table>\n",
              "</div>"
            ],
            "text/plain": [
              "   user_id  movie_id  rating  unix_timestamp                date\n",
              "0      196       242       3       881250949 1997-12-04 15:55:49\n",
              "1      186       302       3       891717742 1998-04-04 19:22:22\n",
              "2       22       377       1       878887116 1997-11-07 07:18:36\n",
              "3      244        51       2       880606923 1997-11-27 05:02:03\n",
              "4      166       346       1       886397596 1998-02-02 05:33:16"
            ]
          },
          "metadata": {
            "tags": []
          },
          "execution_count": 5
        }
      ]
    },
    {
      "metadata": {
        "id": "ZCBcwg--tmSL",
        "colab_type": "code",
        "outputId": "f16038f8-2168-457c-a277-c7a90ae9c99f",
        "colab": {
          "base_uri": "https://localhost:8080/",
          "height": 204
        }
      },
      "cell_type": "code",
      "source": [
        "m_cols = ['movie_id', 'title', 'release_date', 'video_release_date', 'imdb_url']\n",
        "\n",
        "df_movies = pd.read_csv('./ml-100k/u.item', sep='|', names=m_cols, usecols=range(5), encoding='latin1')\n",
        "df_movies.head()"
      ],
      "execution_count": 0,
      "outputs": [
        {
          "output_type": "execute_result",
          "data": {
            "text/html": [
              "<div>\n",
              "<style scoped>\n",
              "    .dataframe tbody tr th:only-of-type {\n",
              "        vertical-align: middle;\n",
              "    }\n",
              "\n",
              "    .dataframe tbody tr th {\n",
              "        vertical-align: top;\n",
              "    }\n",
              "\n",
              "    .dataframe thead th {\n",
              "        text-align: right;\n",
              "    }\n",
              "</style>\n",
              "<table border=\"1\" class=\"dataframe\">\n",
              "  <thead>\n",
              "    <tr style=\"text-align: right;\">\n",
              "      <th></th>\n",
              "      <th>movie_id</th>\n",
              "      <th>title</th>\n",
              "      <th>release_date</th>\n",
              "      <th>video_release_date</th>\n",
              "      <th>imdb_url</th>\n",
              "    </tr>\n",
              "  </thead>\n",
              "  <tbody>\n",
              "    <tr>\n",
              "      <th>0</th>\n",
              "      <td>1</td>\n",
              "      <td>Toy Story (1995)</td>\n",
              "      <td>01-Jan-1995</td>\n",
              "      <td>NaN</td>\n",
              "      <td>http://us.imdb.com/M/title-exact?Toy%20Story%2...</td>\n",
              "    </tr>\n",
              "    <tr>\n",
              "      <th>1</th>\n",
              "      <td>2</td>\n",
              "      <td>GoldenEye (1995)</td>\n",
              "      <td>01-Jan-1995</td>\n",
              "      <td>NaN</td>\n",
              "      <td>http://us.imdb.com/M/title-exact?GoldenEye%20(...</td>\n",
              "    </tr>\n",
              "    <tr>\n",
              "      <th>2</th>\n",
              "      <td>3</td>\n",
              "      <td>Four Rooms (1995)</td>\n",
              "      <td>01-Jan-1995</td>\n",
              "      <td>NaN</td>\n",
              "      <td>http://us.imdb.com/M/title-exact?Four%20Rooms%...</td>\n",
              "    </tr>\n",
              "    <tr>\n",
              "      <th>3</th>\n",
              "      <td>4</td>\n",
              "      <td>Get Shorty (1995)</td>\n",
              "      <td>01-Jan-1995</td>\n",
              "      <td>NaN</td>\n",
              "      <td>http://us.imdb.com/M/title-exact?Get%20Shorty%...</td>\n",
              "    </tr>\n",
              "    <tr>\n",
              "      <th>4</th>\n",
              "      <td>5</td>\n",
              "      <td>Copycat (1995)</td>\n",
              "      <td>01-Jan-1995</td>\n",
              "      <td>NaN</td>\n",
              "      <td>http://us.imdb.com/M/title-exact?Copycat%20(1995)</td>\n",
              "    </tr>\n",
              "  </tbody>\n",
              "</table>\n",
              "</div>"
            ],
            "text/plain": [
              "   movie_id              title release_date  video_release_date  \\\n",
              "0         1   Toy Story (1995)  01-Jan-1995                 NaN   \n",
              "1         2   GoldenEye (1995)  01-Jan-1995                 NaN   \n",
              "2         3  Four Rooms (1995)  01-Jan-1995                 NaN   \n",
              "3         4  Get Shorty (1995)  01-Jan-1995                 NaN   \n",
              "4         5     Copycat (1995)  01-Jan-1995                 NaN   \n",
              "\n",
              "                                            imdb_url  \n",
              "0  http://us.imdb.com/M/title-exact?Toy%20Story%2...  \n",
              "1  http://us.imdb.com/M/title-exact?GoldenEye%20(...  \n",
              "2  http://us.imdb.com/M/title-exact?Four%20Rooms%...  \n",
              "3  http://us.imdb.com/M/title-exact?Get%20Shorty%...  \n",
              "4  http://us.imdb.com/M/title-exact?Copycat%20(1995)  "
            ]
          },
          "metadata": {
            "tags": []
          },
          "execution_count": 6
        }
      ]
    },
    {
      "metadata": {
        "id": "6mtOUS04uist",
        "colab_type": "code",
        "outputId": "4b7d17b5-24e0-4f9c-fda5-9ebef26aff07",
        "colab": {
          "base_uri": "https://localhost:8080/",
          "height": 394
        }
      },
      "cell_type": "code",
      "source": [
        "# merge data to df_lens\n",
        "# on movie_id\n",
        "df_movie_rating = pd.merge(df_movies, df_ratings)\n",
        "df_movie_rating.head()\n",
        "\n",
        "# on user_id\n",
        "df_lens = pd.merge(df_movie_rating, df_users)\n",
        "df_lens.head()"
      ],
      "execution_count": 0,
      "outputs": [
        {
          "output_type": "execute_result",
          "data": {
            "text/html": [
              "<div>\n",
              "<style scoped>\n",
              "    .dataframe tbody tr th:only-of-type {\n",
              "        vertical-align: middle;\n",
              "    }\n",
              "\n",
              "    .dataframe tbody tr th {\n",
              "        vertical-align: top;\n",
              "    }\n",
              "\n",
              "    .dataframe thead th {\n",
              "        text-align: right;\n",
              "    }\n",
              "</style>\n",
              "<table border=\"1\" class=\"dataframe\">\n",
              "  <thead>\n",
              "    <tr style=\"text-align: right;\">\n",
              "      <th></th>\n",
              "      <th>movie_id</th>\n",
              "      <th>title</th>\n",
              "      <th>release_date</th>\n",
              "      <th>video_release_date</th>\n",
              "      <th>imdb_url</th>\n",
              "      <th>user_id</th>\n",
              "      <th>rating</th>\n",
              "      <th>unix_timestamp</th>\n",
              "      <th>date</th>\n",
              "      <th>age</th>\n",
              "      <th>sex</th>\n",
              "      <th>occupation</th>\n",
              "      <th>zip_code</th>\n",
              "    </tr>\n",
              "  </thead>\n",
              "  <tbody>\n",
              "    <tr>\n",
              "      <th>0</th>\n",
              "      <td>1</td>\n",
              "      <td>Toy Story (1995)</td>\n",
              "      <td>01-Jan-1995</td>\n",
              "      <td>NaN</td>\n",
              "      <td>http://us.imdb.com/M/title-exact?Toy%20Story%2...</td>\n",
              "      <td>308</td>\n",
              "      <td>4</td>\n",
              "      <td>887736532</td>\n",
              "      <td>1998-02-17 17:28:52</td>\n",
              "      <td>60</td>\n",
              "      <td>M</td>\n",
              "      <td>retired</td>\n",
              "      <td>95076</td>\n",
              "    </tr>\n",
              "    <tr>\n",
              "      <th>1</th>\n",
              "      <td>4</td>\n",
              "      <td>Get Shorty (1995)</td>\n",
              "      <td>01-Jan-1995</td>\n",
              "      <td>NaN</td>\n",
              "      <td>http://us.imdb.com/M/title-exact?Get%20Shorty%...</td>\n",
              "      <td>308</td>\n",
              "      <td>5</td>\n",
              "      <td>887737890</td>\n",
              "      <td>1998-02-17 17:51:30</td>\n",
              "      <td>60</td>\n",
              "      <td>M</td>\n",
              "      <td>retired</td>\n",
              "      <td>95076</td>\n",
              "    </tr>\n",
              "    <tr>\n",
              "      <th>2</th>\n",
              "      <td>5</td>\n",
              "      <td>Copycat (1995)</td>\n",
              "      <td>01-Jan-1995</td>\n",
              "      <td>NaN</td>\n",
              "      <td>http://us.imdb.com/M/title-exact?Copycat%20(1995)</td>\n",
              "      <td>308</td>\n",
              "      <td>4</td>\n",
              "      <td>887739608</td>\n",
              "      <td>1998-02-17 18:20:08</td>\n",
              "      <td>60</td>\n",
              "      <td>M</td>\n",
              "      <td>retired</td>\n",
              "      <td>95076</td>\n",
              "    </tr>\n",
              "    <tr>\n",
              "      <th>3</th>\n",
              "      <td>7</td>\n",
              "      <td>Twelve Monkeys (1995)</td>\n",
              "      <td>01-Jan-1995</td>\n",
              "      <td>NaN</td>\n",
              "      <td>http://us.imdb.com/M/title-exact?Twelve%20Monk...</td>\n",
              "      <td>308</td>\n",
              "      <td>4</td>\n",
              "      <td>887738847</td>\n",
              "      <td>1998-02-17 18:07:27</td>\n",
              "      <td>60</td>\n",
              "      <td>M</td>\n",
              "      <td>retired</td>\n",
              "      <td>95076</td>\n",
              "    </tr>\n",
              "    <tr>\n",
              "      <th>4</th>\n",
              "      <td>8</td>\n",
              "      <td>Babe (1995)</td>\n",
              "      <td>01-Jan-1995</td>\n",
              "      <td>NaN</td>\n",
              "      <td>http://us.imdb.com/M/title-exact?Babe%20(1995)</td>\n",
              "      <td>308</td>\n",
              "      <td>5</td>\n",
              "      <td>887736696</td>\n",
              "      <td>1998-02-17 17:31:36</td>\n",
              "      <td>60</td>\n",
              "      <td>M</td>\n",
              "      <td>retired</td>\n",
              "      <td>95076</td>\n",
              "    </tr>\n",
              "  </tbody>\n",
              "</table>\n",
              "</div>"
            ],
            "text/plain": [
              "   movie_id                  title release_date  video_release_date  \\\n",
              "0         1       Toy Story (1995)  01-Jan-1995                 NaN   \n",
              "1         4      Get Shorty (1995)  01-Jan-1995                 NaN   \n",
              "2         5         Copycat (1995)  01-Jan-1995                 NaN   \n",
              "3         7  Twelve Monkeys (1995)  01-Jan-1995                 NaN   \n",
              "4         8            Babe (1995)  01-Jan-1995                 NaN   \n",
              "\n",
              "                                            imdb_url  user_id  rating  \\\n",
              "0  http://us.imdb.com/M/title-exact?Toy%20Story%2...      308       4   \n",
              "1  http://us.imdb.com/M/title-exact?Get%20Shorty%...      308       5   \n",
              "2  http://us.imdb.com/M/title-exact?Copycat%20(1995)      308       4   \n",
              "3  http://us.imdb.com/M/title-exact?Twelve%20Monk...      308       4   \n",
              "4     http://us.imdb.com/M/title-exact?Babe%20(1995)      308       5   \n",
              "\n",
              "   unix_timestamp                date  age sex occupation zip_code  \n",
              "0       887736532 1998-02-17 17:28:52   60   M    retired    95076  \n",
              "1       887737890 1998-02-17 17:51:30   60   M    retired    95076  \n",
              "2       887739608 1998-02-17 18:20:08   60   M    retired    95076  \n",
              "3       887738847 1998-02-17 18:07:27   60   M    retired    95076  \n",
              "4       887736696 1998-02-17 17:31:36   60   M    retired    95076  "
            ]
          },
          "metadata": {
            "tags": []
          },
          "execution_count": 7
        }
      ]
    },
    {
      "metadata": {
        "id": "x1ba0GxrHvCG",
        "colab_type": "code",
        "colab": {}
      },
      "cell_type": "code",
      "source": [
        ""
      ],
      "execution_count": 0,
      "outputs": []
    },
    {
      "metadata": {
        "id": "Hg2EeQQ-u-64",
        "colab_type": "code",
        "outputId": "c10886c8-4dcb-4cbb-d95f-1d88cbcc646b",
        "colab": {
          "base_uri": "https://localhost:8080/",
          "height": 119
        }
      },
      "cell_type": "code",
      "source": [
        "# 最も評価された、出てきた5作品のタイトル\n",
        "df_lens.title.value_counts()[:5]"
      ],
      "execution_count": 0,
      "outputs": [
        {
          "output_type": "execute_result",
          "data": {
            "text/plain": [
              "Star Wars (1977)             583\n",
              "Contact (1997)               509\n",
              "Fargo (1996)                 508\n",
              "Return of the Jedi (1983)    507\n",
              "Liar Liar (1997)             485\n",
              "Name: title, dtype: int64"
            ]
          },
          "metadata": {
            "tags": []
          },
          "execution_count": 39
        }
      ]
    },
    {
      "metadata": {
        "id": "f6qmkxbkvn4S",
        "colab_type": "code",
        "outputId": "179b2b3d-e355-42f7-f3c9-6e1ee14c54e1",
        "colab": {
          "base_uri": "https://localhost:8080/",
          "height": 266
        }
      },
      "cell_type": "code",
      "source": [
        "# group and sort count and mean of rating\n",
        "df_gb_movie_stats = df_lens.groupby('title').agg({'rating': [np.size, np.mean]})\n",
        "df_gb_movie_stats.sort_values(by=[('rating', 'mean')], ascending=False).head()\n",
        "\n",
        "df_gb_movie_stats.head()"
      ],
      "execution_count": 0,
      "outputs": [
        {
          "output_type": "execute_result",
          "data": {
            "text/html": [
              "<div>\n",
              "<style scoped>\n",
              "    .dataframe tbody tr th:only-of-type {\n",
              "        vertical-align: middle;\n",
              "    }\n",
              "\n",
              "    .dataframe tbody tr th {\n",
              "        vertical-align: top;\n",
              "    }\n",
              "\n",
              "    .dataframe thead tr th {\n",
              "        text-align: left;\n",
              "    }\n",
              "\n",
              "    .dataframe thead tr:last-of-type th {\n",
              "        text-align: right;\n",
              "    }\n",
              "</style>\n",
              "<table border=\"1\" class=\"dataframe\">\n",
              "  <thead>\n",
              "    <tr>\n",
              "      <th></th>\n",
              "      <th colspan=\"2\" halign=\"left\">rating</th>\n",
              "    </tr>\n",
              "    <tr>\n",
              "      <th></th>\n",
              "      <th>size</th>\n",
              "      <th>mean</th>\n",
              "    </tr>\n",
              "    <tr>\n",
              "      <th>title</th>\n",
              "      <th></th>\n",
              "      <th></th>\n",
              "    </tr>\n",
              "  </thead>\n",
              "  <tbody>\n",
              "    <tr>\n",
              "      <th>'Til There Was You (1997)</th>\n",
              "      <td>9</td>\n",
              "      <td>2.333333</td>\n",
              "    </tr>\n",
              "    <tr>\n",
              "      <th>1-900 (1994)</th>\n",
              "      <td>5</td>\n",
              "      <td>2.600000</td>\n",
              "    </tr>\n",
              "    <tr>\n",
              "      <th>101 Dalmatians (1996)</th>\n",
              "      <td>109</td>\n",
              "      <td>2.908257</td>\n",
              "    </tr>\n",
              "    <tr>\n",
              "      <th>12 Angry Men (1957)</th>\n",
              "      <td>125</td>\n",
              "      <td>4.344000</td>\n",
              "    </tr>\n",
              "    <tr>\n",
              "      <th>187 (1997)</th>\n",
              "      <td>41</td>\n",
              "      <td>3.024390</td>\n",
              "    </tr>\n",
              "  </tbody>\n",
              "</table>\n",
              "</div>"
            ],
            "text/plain": [
              "                          rating          \n",
              "                            size      mean\n",
              "title                                     \n",
              "'Til There Was You (1997)      9  2.333333\n",
              "1-900 (1994)                   5  2.600000\n",
              "101 Dalmatians (1996)        109  2.908257\n",
              "12 Angry Men (1957)          125  4.344000\n",
              "187 (1997)                    41  3.024390"
            ]
          },
          "metadata": {
            "tags": []
          },
          "execution_count": 9
        }
      ]
    },
    {
      "metadata": {
        "id": "XjkJD2_iwgi4",
        "colab_type": "code",
        "outputId": "369d83ba-ffe5-4e76-c9e1-61ac5b687052",
        "colab": {
          "base_uri": "https://localhost:8080/",
          "height": 286
        }
      },
      "cell_type": "code",
      "source": [
        "# 評価回数のヒストグラム\n",
        "# ロングテール！\n",
        "df_lens.groupby('user_id').size().sort_values(ascending=False).hist()\n",
        "\n",
        "plt.xlabel('rating size')\n",
        "plt.ylabel('count of rating')\n",
        "plt.show()"
      ],
      "execution_count": 0,
      "outputs": [
        {
          "output_type": "display_data",
          "data": {
            "image/png": "[encoded data removed]",
            "text/plain": [
              "<Figure size 432x288 with 1 Axes>"
            ]
          },
          "metadata": {
            "tags": []
          }
        }
      ]
    },
    {
      "metadata": {
        "id": "ruzFoN7w2Oui",
        "colab_type": "code",
        "outputId": "9dd38cb6-785f-4095-96c0-df4f435d6f71",
        "colab": {
          "base_uri": "https://localhost:8080/",
          "height": 328
        }
      },
      "cell_type": "code",
      "source": [
        "df_gb_user_stats = df_lens.groupby('user_id').agg({'rating': [np.size, np.mean]})\n",
        "df_gb_user_stats.describe()"
      ],
      "execution_count": 0,
      "outputs": [
        {
          "output_type": "execute_result",
          "data": {
            "text/html": [
              "<div>\n",
              "<style scoped>\n",
              "    .dataframe tbody tr th:only-of-type {\n",
              "        vertical-align: middle;\n",
              "    }\n",
              "\n",
              "    .dataframe tbody tr th {\n",
              "        vertical-align: top;\n",
              "    }\n",
              "\n",
              "    .dataframe thead tr th {\n",
              "        text-align: left;\n",
              "    }\n",
              "</style>\n",
              "<table border=\"1\" class=\"dataframe\">\n",
              "  <thead>\n",
              "    <tr>\n",
              "      <th></th>\n",
              "      <th colspan=\"2\" halign=\"left\">rating</th>\n",
              "    </tr>\n",
              "    <tr>\n",
              "      <th></th>\n",
              "      <th>size</th>\n",
              "      <th>mean</th>\n",
              "    </tr>\n",
              "  </thead>\n",
              "  <tbody>\n",
              "    <tr>\n",
              "      <th>count</th>\n",
              "      <td>943.000000</td>\n",
              "      <td>943.000000</td>\n",
              "    </tr>\n",
              "    <tr>\n",
              "      <th>mean</th>\n",
              "      <td>106.044539</td>\n",
              "      <td>3.588191</td>\n",
              "    </tr>\n",
              "    <tr>\n",
              "      <th>std</th>\n",
              "      <td>100.931743</td>\n",
              "      <td>0.445233</td>\n",
              "    </tr>\n",
              "    <tr>\n",
              "      <th>min</th>\n",
              "      <td>20.000000</td>\n",
              "      <td>1.491954</td>\n",
              "    </tr>\n",
              "    <tr>\n",
              "      <th>25%</th>\n",
              "      <td>33.000000</td>\n",
              "      <td>3.323054</td>\n",
              "    </tr>\n",
              "    <tr>\n",
              "      <th>50%</th>\n",
              "      <td>65.000000</td>\n",
              "      <td>3.620690</td>\n",
              "    </tr>\n",
              "    <tr>\n",
              "      <th>75%</th>\n",
              "      <td>148.000000</td>\n",
              "      <td>3.869565</td>\n",
              "    </tr>\n",
              "    <tr>\n",
              "      <th>max</th>\n",
              "      <td>737.000000</td>\n",
              "      <td>4.869565</td>\n",
              "    </tr>\n",
              "  </tbody>\n",
              "</table>\n",
              "</div>"
            ],
            "text/plain": [
              "           rating            \n",
              "             size        mean\n",
              "count  943.000000  943.000000\n",
              "mean   106.044539    3.588191\n",
              "std    100.931743    0.445233\n",
              "min     20.000000    1.491954\n",
              "25%     33.000000    3.323054\n",
              "50%     65.000000    3.620690\n",
              "75%    148.000000    3.869565\n",
              "max    737.000000    4.869565"
            ]
          },
          "metadata": {
            "tags": []
          },
          "execution_count": 11
        }
      ]
    },
    {
      "metadata": {
        "id": "jWupSMOf6J1-",
        "colab_type": "text"
      },
      "cell_type": "markdown",
      "source": [
        "#### 推薦システムの実装"
      ]
    },
    {
      "metadata": {
        "id": "NZbVe2fm6THQ",
        "colab_type": "code",
        "outputId": "18c511d6-b10c-4fab-db4d-d9463cec5898",
        "colab": {
          "base_uri": "https://localhost:8080/",
          "height": 190
        }
      },
      "cell_type": "code",
      "source": [
        "!pip install fastFM"
      ],
      "execution_count": 0,
      "outputs": [
        {
          "output_type": "stream",
          "text": [
            "Collecting fastFM\n",
            "\u001b[?25l  Downloading https://files.pythonhosted.org/packages/f5/15/fdbb9b9455efa48ffb07b9880a1e567e0c7a7de0acc4aa7f1c5ba9ce4f2c/fastFM-0.2.11-cp36-cp36m-manylinux1_x86_64.whl (483kB)\n",
            "\u001b[K    100% |████████████████████████████████| 491kB 8.9MB/s \n",
            "\u001b[?25hRequirement already satisfied: scipy in /usr/local/lib/python3.6/dist-packages (from fastFM) (1.2.1)\n",
            "Requirement already satisfied: scikit-learn in /usr/local/lib/python3.6/dist-packages (from fastFM) (0.20.3)\n",
            "Requirement already satisfied: numpy in /usr/local/lib/python3.6/dist-packages (from fastFM) (1.16.3)\n",
            "Requirement already satisfied: cython in /usr/local/lib/python3.6/dist-packages (from fastFM) (0.29.7)\n",
            "Installing collected packages: fastFM\n",
            "Successfully installed fastFM-0.2.11\n"
          ],
          "name": "stdout"
        }
      ]
    },
    {
      "metadata": {
        "id": "r6WN8pr_2fqN",
        "colab_type": "code",
        "colab": {}
      },
      "cell_type": "code",
      "source": [
        "# factorization machines\n",
        "from sklearn.feature_extraction import DictVectorizer"
      ],
      "execution_count": 0,
      "outputs": []
    },
    {
      "metadata": {
        "id": "8_5TF3OA8QrA",
        "colab_type": "code",
        "outputId": "d9db95b5-188c-4ae9-f726-5d93f55754e1",
        "colab": {
          "base_uri": "https://localhost:8080/",
          "height": 85
        }
      },
      "cell_type": "code",
      "source": [
        "train = [\n",
        "    {'user': '1', 'item': '5', 'age': 19}\n",
        "    ,{'user': '2', 'item': '43', 'age': 33}\n",
        "    ,{'user': '3',  'item': '20', 'age': 55}\n",
        "    ,{'user': '4', 'item': '10', 'age': 20}\n",
        "]\n",
        "\n",
        "v = DictVectorizer()\n",
        "\n",
        "# stringはダミー変数になる(4つのベクトルと4つのベクトル)\n",
        "x = v.fit_transform(train)\n",
        "\n",
        "x.toarray()"
      ],
      "execution_count": 0,
      "outputs": [
        {
          "output_type": "execute_result",
          "data": {
            "text/plain": [
              "array([[19.,  0.,  0.,  0.,  1.,  1.,  0.,  0.,  0.],\n",
              "       [33.,  0.,  0.,  1.,  0.,  0.,  1.,  0.,  0.],\n",
              "       [55.,  0.,  1.,  0.,  0.,  0.,  0.,  1.,  0.],\n",
              "       [20.,  1.,  0.,  0.,  0.,  0.,  0.,  0.,  1.]])"
            ]
          },
          "metadata": {
            "tags": []
          },
          "execution_count": 14
        }
      ]
    },
    {
      "metadata": {
        "id": "OiHJFSkw8lAX",
        "colab_type": "code",
        "colab": {}
      },
      "cell_type": "code",
      "source": [
        "from fastFM import als\n",
        "import numpy as np"
      ],
      "execution_count": 0,
      "outputs": []
    },
    {
      "metadata": {
        "id": "oWNJhvrt9ukl",
        "colab_type": "code",
        "outputId": "a1a0cd36-b328-4f5d-e628-01c00f5cc91f",
        "colab": {
          "base_uri": "https://localhost:8080/",
          "height": 34
        }
      },
      "cell_type": "code",
      "source": [
        "# ユーザの評価値ベクトル各々 5, 1, 2, 4と評価したとしている\n",
        "y = np.array([5.0, 1.0, 2.0, 4.0])\n",
        "\n",
        "fm = als.FMRegression(n_iter=1000, init_stdev=0.1, rank=2,\n",
        "                     l2_reg_w=0.1, l2_reg_V=0.5)\n",
        "\n",
        "fm.fit(x, y)\n",
        "\n",
        "# user 5(age 24)がitem 10を評価したときの評価値\n",
        "fm.predict(v.transform({'user': '5', 'item': '10', 'age': 24}))"
      ],
      "execution_count": 0,
      "outputs": [
        {
          "output_type": "execute_result",
          "data": {
            "text/plain": [
              "array([3.60775939])"
            ]
          },
          "metadata": {
            "tags": []
          },
          "execution_count": 16
        }
      ]
    },
    {
      "metadata": {
        "id": "cmNqyrKz-NN6",
        "colab_type": "text"
      },
      "cell_type": "markdown",
      "source": [
        "#### factorization machineで学習する"
      ]
    },
    {
      "metadata": {
        "id": "Vt9aBTxu-LHx",
        "colab_type": "code",
        "colab": {}
      },
      "cell_type": "code",
      "source": [
        "def load_data(filename, path='./ml-100k/'):\n",
        "    data = []\n",
        "    y = []\n",
        "    \n",
        "    with open(path+filename) as f:\n",
        "        for l in f:\n",
        "            (user, movieid, rating, ts) = l.split('\\t')\n",
        "            \n",
        "            data.append({'user_id': str(user), 'movie_id': str(movieid)})\n",
        "            y.append(float(rating))\n",
        "    return  (data, np.array(y))\n",
        "\n",
        "(dev_data, y_dev) = load_data('ua.base')\n",
        "\n",
        "(test_data, y_test) = load_data('ua.test')"
      ],
      "execution_count": 0,
      "outputs": []
    },
    {
      "metadata": {
        "id": "gk_4i2CPXwpK",
        "colab_type": "code",
        "colab": {}
      },
      "cell_type": "code",
      "source": [
        "# devデータを学習、検証用に分ける\n",
        "from sklearn.model_selection import train_test_split"
      ],
      "execution_count": 0,
      "outputs": []
    },
    {
      "metadata": {
        "id": "UTA9vQVUXz-3",
        "colab_type": "code",
        "colab": {}
      },
      "cell_type": "code",
      "source": [
        "v = DictVectorizer()\n",
        "\n",
        "x_dev = v.fit_transform(dev_data)\n",
        "x_test = v.transform(test_data)\n",
        "\n",
        "np.std(y_test)\n",
        "x_train, x_dev_test, y_train, y_dev_test = \\\n",
        "    train_test_split(x_dev, y_dev, test_size=0.1, random_state=42)"
      ],
      "execution_count": 0,
      "outputs": []
    },
    {
      "metadata": {
        "id": "1QVOaGg1WfO5",
        "colab_type": "code",
        "colab": {}
      },
      "cell_type": "code",
      "source": [
        "from sklearn.metrics import mean_squared_error\n",
        "from fastFM import mcmc"
      ],
      "execution_count": 0,
      "outputs": []
    },
    {
      "metadata": {
        "id": "o-pCELOLXLQI",
        "colab_type": "code",
        "colab": {}
      },
      "cell_type": "code",
      "source": [
        "# parameter\n",
        "n_iter = 300\n",
        "step_size = 1\n",
        "seed = 123\n",
        "rank = 4"
      ],
      "execution_count": 0,
      "outputs": []
    },
    {
      "metadata": {
        "id": "xJYDEXIZXe1Y",
        "colab_type": "code",
        "outputId": "ded38e44-7fb8-4340-a25e-e3aa0f761146",
        "colab": {
          "base_uri": "https://localhost:8080/",
          "height": 34
        }
      },
      "cell_type": "code",
      "source": [
        "# init model\n",
        "# mcmcなのでfitとpredictを同時に行わなければならない\n",
        "fm = mcmc.FMRegression(n_iter=0, rank=rank, random_state=seed)\n",
        "fm.fit_predict(x_train, y_train, x_dev_test)"
      ],
      "execution_count": 0,
      "outputs": [
        {
          "output_type": "execute_result",
          "data": {
            "text/plain": [
              "array([0., 0., 0., ..., 0., 0., 0.])"
            ]
          },
          "metadata": {
            "tags": []
          },
          "execution_count": 22
        }
      ]
    },
    {
      "metadata": {
        "id": "65tVf76hYiPz",
        "colab_type": "code",
        "colab": {}
      },
      "cell_type": "code",
      "source": [
        ""
      ],
      "execution_count": 0,
      "outputs": []
    },
    {
      "metadata": {
        "id": "d0XcbvFfbz5z",
        "colab_type": "code",
        "colab": {}
      },
      "cell_type": "code",
      "source": [
        "rmse_dev_test = []\n",
        "rmse_test = []\n",
        "\n",
        "hyper_param = np.zeros((n_iter - 1, 3+2*rank), dtype=np.float64)\n",
        "\n",
        "# iterを変化させて、predictの結果を保存する\n",
        "for nr, i in enumerate(range(1, n_iter)):\n",
        "    fm.random_state = i * seed\n",
        "    \n",
        "    y_pred = fm.fit_predict(x_train, y_train, x_dev_test, n_more_iter=step_size)\n",
        "    rmse_test.append(np.sqrt(mean_squared_error(y_pred, y_dev_test)))\n",
        "    hyper_param[nr, :] = fm.hyper_param_\n",
        "    \n",
        "# 初めの５回は無視する\n",
        "# x軸の値、ステップ数\n",
        "values = np.arange(1, n_iter)\n",
        "x = values * step_size\n",
        "burn_in = 5\n",
        "\n",
        "x = x[burn_in:]"
      ],
      "execution_count": 0,
      "outputs": []
    },
    {
      "metadata": {
        "id": "IPw4v0VzgKq5",
        "colab_type": "code",
        "outputId": "a2a11805-be6f-49a0-d121-c2d5430c58d8",
        "colab": {
          "base_uri": "https://localhost:8080/",
          "height": 238
        }
      },
      "cell_type": "code",
      "source": [
        "hyper_param"
      ],
      "execution_count": 0,
      "outputs": [
        {
          "output_type": "execute_result",
          "data": {
            "text/plain": [
              "array([[ 7.29936807e-02,  1.01534507e+02,  1.09545845e+02, ...,\n",
              "        -2.64130136e-04, -1.52355401e-03, -1.94369678e-03],\n",
              "       [ 8.36490856e-01,  1.00123392e+02,  1.05959358e+02, ...,\n",
              "         6.35869726e-04, -3.12144587e-03, -2.98777035e-03],\n",
              "       [ 1.02700665e+00,  3.23757929e+01,  1.01870475e+02, ...,\n",
              "         1.30186941e-03, -1.33292961e-03, -3.37801855e-03],\n",
              "       ...,\n",
              "       [ 1.41530233e+00,  4.94956660e+00,  4.84472474e+00, ...,\n",
              "        -1.59330595e-01, -2.75449109e-01,  1.48574867e-02],\n",
              "       [ 1.40748074e+00,  5.36560318e+00,  5.02194975e+00, ...,\n",
              "        -1.80935167e-01, -2.61153633e-01,  2.88644431e-03],\n",
              "       [ 1.41138484e+00,  5.22930424e+00,  5.41863118e+00, ...,\n",
              "        -1.47430605e-01, -2.64029678e-01,  1.06188403e-03]])"
            ]
          },
          "metadata": {
            "tags": []
          },
          "execution_count": 24
        }
      ]
    },
    {
      "metadata": {
        "id": "uANrqePGdrZ7",
        "colab_type": "code",
        "outputId": "fb4ec175-a6ac-4674-a208-6d6a9842d345",
        "colab": {
          "base_uri": "https://localhost:8080/",
          "height": 503
        }
      },
      "cell_type": "code",
      "source": [
        "# rmseとハイパーパラメータをプロット\n",
        "# 100くらいで収束している\n",
        "from matplotlib import pyplot as plt\n",
        "\n",
        "fig, axes = plt.subplots(nrows=2, ncols=2, sharex=True, figsize=(15, 8))\n",
        "\n",
        "axes[0, 0].plot(x, rmse_test[burn_in:], label='dev test rmse', color='r')\n",
        "axes[0, 0].legend()\n",
        "axes[0, 1].plot(x, hyper_param[burn_in:,0], label='alpha', color='b')\n",
        "axes[0, 1].legend()\n",
        "axes[1, 0].plot(x, hyper_param[burn_in:,1], label='lambda_w', color='g')\n",
        "axes[1, 0].legend()\n",
        "axes[1, 1].plot(x, hyper_param[burn_in:,3], label='mu_w', color='y')\n",
        "axes[1, 1].legend()"
      ],
      "execution_count": 0,
      "outputs": [
        {
          "output_type": "execute_result",
          "data": {
            "text/plain": [
              "<matplotlib.legend.Legend at 0x7f4f9e559128>"
            ]
          },
          "metadata": {
            "tags": []
          },
          "execution_count": 25
        },
        {
          "output_type": "display_data",
          "data": {
            "image/png": "[encoded data removed]",
            "text/plain": [
              "<Figure size 1080x576 with 4 Axes>"
            ]
          },
          "metadata": {
            "tags": []
          }
        }
      ]
    },
    {
      "metadata": {
        "id": "U42kKiOheuU5",
        "colab_type": "code",
        "outputId": "32647a3b-0a8d-40d3-e0c5-ba72007ca5b3",
        "colab": {
          "base_uri": "https://localhost:8080/",
          "height": 102
        }
      },
      "cell_type": "code",
      "source": [
        "# rankを変えてみる\n",
        "n_iter = 100\n",
        "seed = 333\n",
        "\n",
        "rmse_test = []\n",
        "ranks = [4, 8, 16, 32, 64]\n",
        "\n",
        "for rank in ranks:\n",
        "    fm = mcmc.FMRegression(n_iter=n_iter, rank=rank, random_state=seed)\n",
        "    y_pred = fm.fit_predict(x_train, y_train, x_dev_test)\n",
        "    \n",
        "    rmse = np.sqrt(mean_squared_error(y_pred, y_dev_test))\n",
        "    rmse_test.append(rmse)\n",
        "    print('rank:{}\\trmse:{:.3f}'.format(rank, rmse))"
      ],
      "execution_count": 0,
      "outputs": [
        {
          "output_type": "stream",
          "text": [
            "rank:4\trmse:0.903\n",
            "rank:8\trmse:0.898\n",
            "rank:16\trmse:0.896\n",
            "rank:32\trmse:0.893\n",
            "rank:64\trmse:0.893\n"
          ],
          "name": "stdout"
        }
      ]
    },
    {
      "metadata": {
        "id": "PT3Ryeb_jrAA",
        "colab_type": "code",
        "outputId": "4786f7e7-4fc6-47e4-b125-10a627ac4e33",
        "colab": {
          "base_uri": "https://localhost:8080/",
          "height": 286
        }
      },
      "cell_type": "code",
      "source": [
        "# rankに対するrmseをプロット\n",
        "# rank32くらいから落ち着いてくる\n",
        "plt.plot(ranks, rmse_test, label='dev test rmse', color='r')\n",
        "plt.legend()"
      ],
      "execution_count": 0,
      "outputs": [
        {
          "output_type": "execute_result",
          "data": {
            "text/plain": [
              "<matplotlib.legend.Legend at 0x7f4f9e250f60>"
            ]
          },
          "metadata": {
            "tags": []
          },
          "execution_count": 27
        },
        {
          "output_type": "display_data",
          "data": {
            "image/png": "[encoded data removed]",
            "text/plain": [
              "<Figure size 432x288 with 1 Axes>"
            ]
          },
          "metadata": {
            "tags": []
          }
        }
      ]
    },
    {
      "metadata": {
        "id": "SO3L9eLqjuy3",
        "colab_type": "code",
        "outputId": "7e7b3b87-b5cc-4b53-946c-d86a4a96ac91",
        "colab": {
          "base_uri": "https://localhost:8080/",
          "height": 34
        }
      },
      "cell_type": "code",
      "source": [
        "# パラメータを固定して試してみる\n",
        "fm = mcmc.FMRegression(n_iter=300, rank=32, random_state=seed)\n",
        "y_pred = fm.fit_predict(x_train, y_train, x_test)\n",
        "\n",
        "np.sqrt(mean_squared_error(y_pred, y_test))\n"
      ],
      "execution_count": 0,
      "outputs": [
        {
          "output_type": "execute_result",
          "data": {
            "text/plain": [
              "0.921496840062798"
            ]
          },
          "metadata": {
            "tags": []
          },
          "execution_count": 28
        }
      ]
    },
    {
      "metadata": {
        "id": "iroozEF1lyY-",
        "colab_type": "code",
        "outputId": "99e3f9e5-abcd-42bf-aa23-b04e1a7614a3",
        "colab": {
          "base_uri": "https://localhost:8080/",
          "height": 34
        }
      },
      "cell_type": "code",
      "source": [
        "# 評価値を標準化する\n",
        "# ちょっと小さくなる\n",
        "from sklearn.preprocessing import StandardScaler\n",
        "\n",
        "scaler = StandardScaler()\n",
        "\n",
        "y_train_norm = scaler.fit_transform(y_train.reshape(-1, 1)).ravel()\n",
        "\n",
        "fm = mcmc.FMRegression(n_iter=300, rank=32, random_state=seed)\n",
        "y_pred = fm.fit_predict(x_train, y_train_norm, x_test)\n",
        "np.sqrt(mean_squared_error(scaler.inverse_transform(y_pred), y_test))"
      ],
      "execution_count": 0,
      "outputs": [
        {
          "output_type": "execute_result",
          "data": {
            "text/plain": [
              "0.9203443782544464"
            ]
          },
          "metadata": {
            "tags": []
          },
          "execution_count": 29
        }
      ]
    },
    {
      "metadata": {
        "id": "f8mHQdcSmqF8",
        "colab_type": "code",
        "outputId": "ff188e60-63ef-47fe-cf9e-aa9f8fb430c2",
        "colab": {
          "base_uri": "https://localhost:8080/",
          "height": 34
        }
      },
      "cell_type": "code",
      "source": [
        "y_train.reshape(-1, 1).ravel()"
      ],
      "execution_count": 0,
      "outputs": [
        {
          "output_type": "execute_result",
          "data": {
            "text/plain": [
              "array([4., 5., 2., ..., 4., 1., 1.])"
            ]
          },
          "metadata": {
            "tags": []
          },
          "execution_count": 30
        }
      ]
    },
    {
      "metadata": {
        "id": "VeR9AgHDphzW",
        "colab_type": "code",
        "outputId": "2de54be2-e402-435b-ef12-4fbe7d58ed36",
        "colab": {
          "base_uri": "https://localhost:8080/",
          "height": 34
        }
      },
      "cell_type": "code",
      "source": [
        "y_train"
      ],
      "execution_count": 0,
      "outputs": [
        {
          "output_type": "execute_result",
          "data": {
            "text/plain": [
              "array([4., 5., 2., ..., 4., 1., 1.])"
            ]
          },
          "metadata": {
            "tags": []
          },
          "execution_count": 31
        }
      ]
    },
    {
      "metadata": {
        "id": "WTRq7BsDnhnh",
        "colab_type": "code",
        "outputId": "08d9c218-bba9-49a5-f6b1-a22919cffdc9",
        "colab": {
          "base_uri": "https://localhost:8080/",
          "height": 51
        }
      },
      "cell_type": "code",
      "source": [
        "y_train_norm"
      ],
      "execution_count": 0,
      "outputs": [
        {
          "output_type": "execute_result",
          "data": {
            "text/plain": [
              "array([ 0.42494985,  1.31239957, -1.34994958, ...,  0.42494985,\n",
              "       -2.23739929, -2.23739929])"
            ]
          },
          "metadata": {
            "tags": []
          },
          "execution_count": 32
        }
      ]
    },
    {
      "metadata": {
        "id": "Z1ko8vKOpvWy",
        "colab_type": "text"
      },
      "cell_type": "markdown",
      "source": [
        "####  他の情報も加える"
      ]
    },
    {
      "metadata": {
        "id": "3Z3xaDQLnilX",
        "colab_type": "code",
        "colab": {}
      },
      "cell_type": "code",
      "source": [
        "# ダミー変数にするため、strに変換している\n",
        "df_lens['user_id'] = df_lens['user_id'].astype(str)\n",
        "df_lens['movie_id'] = df_lens['movie_id'].astype(str)\n",
        "df_lens['year'] = df_lens['date'].apply(str).str.split('-').str.get(0)\n",
        "df_lens['release_year'] = \\\n",
        "    df_lens['release_date'].apply(str).str.split('-').str.get(2)"
      ],
      "execution_count": 0,
      "outputs": []
    },
    {
      "metadata": {
        "id": "7LL0uPxDpnqQ",
        "colab_type": "code",
        "outputId": "0ea03592-d777-4d3a-9f0d-688ece581e4e",
        "colab": {
          "base_uri": "https://localhost:8080/",
          "height": 394
        }
      },
      "cell_type": "code",
      "source": [
        "df_lens.head()"
      ],
      "execution_count": 0,
      "outputs": [
        {
          "output_type": "execute_result",
          "data": {
            "text/html": [
              "<div>\n",
              "<style scoped>\n",
              "    .dataframe tbody tr th:only-of-type {\n",
              "        vertical-align: middle;\n",
              "    }\n",
              "\n",
              "    .dataframe tbody tr th {\n",
              "        vertical-align: top;\n",
              "    }\n",
              "\n",
              "    .dataframe thead th {\n",
              "        text-align: right;\n",
              "    }\n",
              "</style>\n",
              "<table border=\"1\" class=\"dataframe\">\n",
              "  <thead>\n",
              "    <tr style=\"text-align: right;\">\n",
              "      <th></th>\n",
              "      <th>movie_id</th>\n",
              "      <th>title</th>\n",
              "      <th>release_date</th>\n",
              "      <th>video_release_date</th>\n",
              "      <th>imdb_url</th>\n",
              "      <th>user_id</th>\n",
              "      <th>rating</th>\n",
              "      <th>unix_timestamp</th>\n",
              "      <th>date</th>\n",
              "      <th>age</th>\n",
              "      <th>sex</th>\n",
              "      <th>occupation</th>\n",
              "      <th>zip_code</th>\n",
              "      <th>year</th>\n",
              "      <th>release_year</th>\n",
              "    </tr>\n",
              "  </thead>\n",
              "  <tbody>\n",
              "    <tr>\n",
              "      <th>0</th>\n",
              "      <td>1</td>\n",
              "      <td>Toy Story (1995)</td>\n",
              "      <td>01-Jan-1995</td>\n",
              "      <td>NaN</td>\n",
              "      <td>http://us.imdb.com/M/title-exact?Toy%20Story%2...</td>\n",
              "      <td>308</td>\n",
              "      <td>4</td>\n",
              "      <td>887736532</td>\n",
              "      <td>1998-02-17 17:28:52</td>\n",
              "      <td>60</td>\n",
              "      <td>M</td>\n",
              "      <td>retired</td>\n",
              "      <td>95076</td>\n",
              "      <td>1998</td>\n",
              "      <td>1995</td>\n",
              "    </tr>\n",
              "    <tr>\n",
              "      <th>1</th>\n",
              "      <td>4</td>\n",
              "      <td>Get Shorty (1995)</td>\n",
              "      <td>01-Jan-1995</td>\n",
              "      <td>NaN</td>\n",
              "      <td>http://us.imdb.com/M/title-exact?Get%20Shorty%...</td>\n",
              "      <td>308</td>\n",
              "      <td>5</td>\n",
              "      <td>887737890</td>\n",
              "      <td>1998-02-17 17:51:30</td>\n",
              "      <td>60</td>\n",
              "      <td>M</td>\n",
              "      <td>retired</td>\n",
              "      <td>95076</td>\n",
              "      <td>1998</td>\n",
              "      <td>1995</td>\n",
              "    </tr>\n",
              "    <tr>\n",
              "      <th>2</th>\n",
              "      <td>5</td>\n",
              "      <td>Copycat (1995)</td>\n",
              "      <td>01-Jan-1995</td>\n",
              "      <td>NaN</td>\n",
              "      <td>http://us.imdb.com/M/title-exact?Copycat%20(1995)</td>\n",
              "      <td>308</td>\n",
              "      <td>4</td>\n",
              "      <td>887739608</td>\n",
              "      <td>1998-02-17 18:20:08</td>\n",
              "      <td>60</td>\n",
              "      <td>M</td>\n",
              "      <td>retired</td>\n",
              "      <td>95076</td>\n",
              "      <td>1998</td>\n",
              "      <td>1995</td>\n",
              "    </tr>\n",
              "    <tr>\n",
              "      <th>3</th>\n",
              "      <td>7</td>\n",
              "      <td>Twelve Monkeys (1995)</td>\n",
              "      <td>01-Jan-1995</td>\n",
              "      <td>NaN</td>\n",
              "      <td>http://us.imdb.com/M/title-exact?Twelve%20Monk...</td>\n",
              "      <td>308</td>\n",
              "      <td>4</td>\n",
              "      <td>887738847</td>\n",
              "      <td>1998-02-17 18:07:27</td>\n",
              "      <td>60</td>\n",
              "      <td>M</td>\n",
              "      <td>retired</td>\n",
              "      <td>95076</td>\n",
              "      <td>1998</td>\n",
              "      <td>1995</td>\n",
              "    </tr>\n",
              "    <tr>\n",
              "      <th>4</th>\n",
              "      <td>8</td>\n",
              "      <td>Babe (1995)</td>\n",
              "      <td>01-Jan-1995</td>\n",
              "      <td>NaN</td>\n",
              "      <td>http://us.imdb.com/M/title-exact?Babe%20(1995)</td>\n",
              "      <td>308</td>\n",
              "      <td>5</td>\n",
              "      <td>887736696</td>\n",
              "      <td>1998-02-17 17:31:36</td>\n",
              "      <td>60</td>\n",
              "      <td>M</td>\n",
              "      <td>retired</td>\n",
              "      <td>95076</td>\n",
              "      <td>1998</td>\n",
              "      <td>1995</td>\n",
              "    </tr>\n",
              "  </tbody>\n",
              "</table>\n",
              "</div>"
            ],
            "text/plain": [
              "  movie_id                  title release_date  video_release_date  \\\n",
              "0        1       Toy Story (1995)  01-Jan-1995                 NaN   \n",
              "1        4      Get Shorty (1995)  01-Jan-1995                 NaN   \n",
              "2        5         Copycat (1995)  01-Jan-1995                 NaN   \n",
              "3        7  Twelve Monkeys (1995)  01-Jan-1995                 NaN   \n",
              "4        8            Babe (1995)  01-Jan-1995                 NaN   \n",
              "\n",
              "                                            imdb_url user_id  rating  \\\n",
              "0  http://us.imdb.com/M/title-exact?Toy%20Story%2...     308       4   \n",
              "1  http://us.imdb.com/M/title-exact?Get%20Shorty%...     308       5   \n",
              "2  http://us.imdb.com/M/title-exact?Copycat%20(1995)     308       4   \n",
              "3  http://us.imdb.com/M/title-exact?Twelve%20Monk...     308       4   \n",
              "4     http://us.imdb.com/M/title-exact?Babe%20(1995)     308       5   \n",
              "\n",
              "   unix_timestamp                date  age sex occupation zip_code  year  \\\n",
              "0       887736532 1998-02-17 17:28:52   60   M    retired    95076  1998   \n",
              "1       887737890 1998-02-17 17:51:30   60   M    retired    95076  1998   \n",
              "2       887739608 1998-02-17 18:20:08   60   M    retired    95076  1998   \n",
              "3       887738847 1998-02-17 18:07:27   60   M    retired    95076  1998   \n",
              "4       887736696 1998-02-17 17:31:36   60   M    retired    95076  1998   \n",
              "\n",
              "  release_year  \n",
              "0         1995  \n",
              "1         1995  \n",
              "2         1995  \n",
              "3         1995  \n",
              "4         1995  "
            ]
          },
          "metadata": {
            "tags": []
          },
          "execution_count": 34
        }
      ]
    },
    {
      "metadata": {
        "id": "8RILwJZ4qxsl",
        "colab_type": "code",
        "colab": {}
      },
      "cell_type": "code",
      "source": [
        "# 特徴量の候補\n",
        "candidate_columns = [\n",
        "    ['user_id', 'movie_id', 'release_year', 'age', 'sex', 'year', 'rating'] # A\n",
        "    , ['user_id', 'movie_id', 'age', 'sex', 'year', 'rating'] # B\n",
        "    , ['user_id', 'movie_id', 'sex', 'year', 'rating'] # C\n",
        "    , ['user_id', 'movie_id', 'age', 'sex', 'rating'] # D\n",
        "    , ['user_id', 'movie_id', 'rating'] # E\n",
        "]"
      ],
      "execution_count": 0,
      "outputs": []
    },
    {
      "metadata": {
        "id": "_1GS-ZSWrd2U",
        "colab_type": "code",
        "outputId": "87e4ed81-38d2-46d2-db60-1410489e4d81",
        "colab": {
          "base_uri": "https://localhost:8080/",
          "height": 377
        }
      },
      "cell_type": "code",
      "source": [
        "rmse_test = []\n",
        "\n",
        "for column in candidate_columns:\n",
        "    # nanを削除\n",
        "    filtered_df_lens = df_lens[column].dropna()\n",
        "    \n",
        "    # ダミー変数に変換\n",
        "    v = DictVectorizer()\n",
        "    x_more_feature = v.fit_transform(\n",
        "        list(filtered_df_lens.drop('rating', axis=1).T.to_dict().values()))\n",
        "    \n",
        "    y_more_feature = filtered_df_lens['rating'].tolist()\n",
        "    \n",
        "    x_mf_train, x_mf_test, y_mf_train, y_mf_test = \\\n",
        "        train_test_split(x_more_feature, y_more_feature, test_size=0.1, random_state=42)\n",
        "    \n",
        "    # ratingの正規化\n",
        "    scaler = StandardScaler()\n",
        "    y_mf_train_norm = scaler.fit_transform(np.array(y_mf_train).reshape(-1, 1)).ravel()\n",
        "    \n",
        "    # 学習\n",
        "    fm = mcmc.FMRegression(n_iter=500, rank=8, random_state=123)\n",
        "    fm.fit_predict(x_mf_train, y_mf_train_norm, x_mf_test)\n",
        "    \n",
        "    # テストデータの予測結果取得 rmseを計算\n",
        "    y_pred = fm.fit_predict(x_mf_train, y_mf_train_norm, x_mf_test)\n",
        "    rmse = np.sqrt(mean_squared_error(scaler.inverse_transform(y_pred), y_mf_test))\n",
        "    rmse_test.append(rmse)"
      ],
      "execution_count": 0,
      "outputs": [
        {
          "output_type": "stream",
          "text": [
            "/usr/local/lib/python3.6/dist-packages/sklearn/utils/validation.py:595: DataConversionWarning: Data with input dtype int64 was converted to float64 by StandardScaler.\n",
            "  warnings.warn(msg, DataConversionWarning)\n",
            "/usr/local/lib/python3.6/dist-packages/sklearn/utils/validation.py:595: DataConversionWarning: Data with input dtype int64 was converted to float64 by StandardScaler.\n",
            "  warnings.warn(msg, DataConversionWarning)\n",
            "/usr/local/lib/python3.6/dist-packages/sklearn/utils/validation.py:595: DataConversionWarning: Data with input dtype int64 was converted to float64 by StandardScaler.\n",
            "  warnings.warn(msg, DataConversionWarning)\n",
            "/usr/local/lib/python3.6/dist-packages/sklearn/utils/validation.py:595: DataConversionWarning: Data with input dtype int64 was converted to float64 by StandardScaler.\n",
            "  warnings.warn(msg, DataConversionWarning)\n",
            "/usr/local/lib/python3.6/dist-packages/sklearn/utils/validation.py:595: DataConversionWarning: Data with input dtype int64 was converted to float64 by StandardScaler.\n",
            "  warnings.warn(msg, DataConversionWarning)\n",
            "/usr/local/lib/python3.6/dist-packages/sklearn/utils/validation.py:595: DataConversionWarning: Data with input dtype int64 was converted to float64 by StandardScaler.\n",
            "  warnings.warn(msg, DataConversionWarning)\n",
            "/usr/local/lib/python3.6/dist-packages/sklearn/utils/validation.py:595: DataConversionWarning: Data with input dtype int64 was converted to float64 by StandardScaler.\n",
            "  warnings.warn(msg, DataConversionWarning)\n",
            "/usr/local/lib/python3.6/dist-packages/sklearn/utils/validation.py:595: DataConversionWarning: Data with input dtype int64 was converted to float64 by StandardScaler.\n",
            "  warnings.warn(msg, DataConversionWarning)\n",
            "/usr/local/lib/python3.6/dist-packages/sklearn/utils/validation.py:595: DataConversionWarning: Data with input dtype int64 was converted to float64 by StandardScaler.\n",
            "  warnings.warn(msg, DataConversionWarning)\n",
            "/usr/local/lib/python3.6/dist-packages/sklearn/utils/validation.py:595: DataConversionWarning: Data with input dtype int64 was converted to float64 by StandardScaler.\n",
            "  warnings.warn(msg, DataConversionWarning)\n"
          ],
          "name": "stderr"
        }
      ]
    },
    {
      "metadata": {
        "id": "GuaSSiF4ttw5",
        "colab_type": "code",
        "outputId": "d9cd57d1-db84-45b3-c7af-5e3c597add7e",
        "colab": {
          "base_uri": "https://localhost:8080/",
          "height": 286
        }
      },
      "cell_type": "code",
      "source": [
        "# plot\n",
        "# どの特徴量の組み合わせがいいか\n",
        "# Cが良さげ\n",
        "# 特徴量の候補\n",
        "#candidate_columns = [\n",
        "#    ['user_id', 'movie_id', 'release_year', 'age', 'sex', 'year', 'rating'] # A\n",
        "#   , ['user_id', 'movie_id', 'age', 'sex', 'year', 'rating'] # B\n",
        "#    , ['user_id', 'movie_id', 'sex', 'year', 'rating'] # C\n",
        "#   , ['user_id', 'movie_id', 'age', 'sex', 'rating'] # D\n",
        "#    , ['user_id', 'movie_id', 'rating'] # E\n",
        "#]\n",
        "ind = np.arange(len(rmse_test))\n",
        "bar = plt.bar(ind, height=rmse_test)\n",
        "\n",
        "plt.xticks(ind, ('A', 'B', 'C', 'D', 'E'))\n",
        "plt.ylim((0.88, 0.90))"
      ],
      "execution_count": 0,
      "outputs": [
        {
          "output_type": "execute_result",
          "data": {
            "text/plain": [
              "(0.88, 0.9)"
            ]
          },
          "metadata": {
            "tags": []
          },
          "execution_count": 37
        },
        {
          "output_type": "display_data",
          "data": {
            "image/png": "[encoded data removed]",
            "text/plain": [
              "<Figure size 432x288 with 1 Axes>"
            ]
          },
          "metadata": {
            "tags": []
          }
        }
      ]
    },
    {
      "metadata": {
        "id": "NhYRyoz1jalm",
        "colab_type": "code",
        "colab": {}
      },
      "cell_type": "code",
      "source": [
        ""
      ],
      "execution_count": 0,
      "outputs": []
    }
  ]
}