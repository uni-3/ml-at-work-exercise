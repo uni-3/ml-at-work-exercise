{
  "nbformat": 4,
  "nbformat_minor": 0,
  "metadata": {
    "colab": {
      "name": "4.ipynb",
      "version": "0.3.2",
      "provenance": [],
      "collapsed_sections": [],
      "include_colab_link": true
    },
    "kernelspec": {
      "name": "python3",
      "display_name": "Python 3"
    }
  },
  "cells": [
    {
      "cell_type": "markdown",
      "metadata": {
        "id": "view-in-github",
        "colab_type": "text"
      },
      "source": [
        "<a href=\"https://colab.research.google.com/github/uni-3/ml-at-work-exercise/blob/master/notebooks/4.ipynb\" target=\"_parent\"><img src=\"https://colab.research.google.com/assets/colab-badge.svg\" alt=\"Open In Colab\"/></a>"
      ]
    },
    {
      "metadata": {
        "id": "_E0cBgj4CzkV",
        "colab_type": "text"
      },
      "cell_type": "markdown",
      "source": [
        "### uplift model実データ\n",
        "p 205"
      ]
    },
    {
      "metadata": {
        "id": "wkA0rguTCyC0",
        "colab_type": "code",
        "colab": {}
      },
      "cell_type": "code",
      "source": [
        "# download data\n",
        "import urllib.request\n",
        "csv_url = 'http://www.minethatdata.com/Kevin_Hillstrom_MineThatData_E-MailAnalytics_DataMiningChallenge_2008.03.20.csv'\n",
        "csv_filename = 'source_data.csv'\n",
        "\n",
        "with open(csv_filename, 'w') as f:\n",
        "    data = urllib.request.urlopen(csv_url).read()\n",
        "    f.write(data.decode('ascii'))"
      ],
      "execution_count": 0,
      "outputs": []
    },
    {
      "metadata": {
        "id": "G-HZwSjhDRB1",
        "colab_type": "code",
        "colab": {}
      },
      "cell_type": "code",
      "source": [
        "import pandas as pd"
      ],
      "execution_count": 0,
      "outputs": []
    },
    {
      "metadata": {
        "id": "-PaNGrAvDvGQ",
        "colab_type": "code",
        "outputId": "04356116-c0c3-42c7-e2dd-9f992e749c29",
        "colab": {
          "base_uri": "https://localhost:8080/",
          "height": 204
        }
      },
      "cell_type": "code",
      "source": [
        "# 男性向けメールを送るか女性向けメールを送るか判定する\n",
        "# メールのセグメントと属性、購入したかのデータ\n",
        "df_raw = pd.read_csv(csv_filename)\n",
        "df_raw.head()"
      ],
      "execution_count": 0,
      "outputs": [
        {
          "output_type": "execute_result",
          "data": {
            "text/html": [
              "<div>\n",
              "<style scoped>\n",
              "    .dataframe tbody tr th:only-of-type {\n",
              "        vertical-align: middle;\n",
              "    }\n",
              "\n",
              "    .dataframe tbody tr th {\n",
              "        vertical-align: top;\n",
              "    }\n",
              "\n",
              "    .dataframe thead th {\n",
              "        text-align: right;\n",
              "    }\n",
              "</style>\n",
              "<table border=\"1\" class=\"dataframe\">\n",
              "  <thead>\n",
              "    <tr style=\"text-align: right;\">\n",
              "      <th></th>\n",
              "      <th>recency</th>\n",
              "      <th>history_segment</th>\n",
              "      <th>history</th>\n",
              "      <th>mens</th>\n",
              "      <th>womens</th>\n",
              "      <th>zip_code</th>\n",
              "      <th>newbie</th>\n",
              "      <th>channel</th>\n",
              "      <th>segment</th>\n",
              "      <th>visit</th>\n",
              "      <th>conversion</th>\n",
              "      <th>spend</th>\n",
              "    </tr>\n",
              "  </thead>\n",
              "  <tbody>\n",
              "    <tr>\n",
              "      <th>0</th>\n",
              "      <td>10</td>\n",
              "      <td>2) $100 - $200</td>\n",
              "      <td>142.44</td>\n",
              "      <td>1</td>\n",
              "      <td>0</td>\n",
              "      <td>Surburban</td>\n",
              "      <td>0</td>\n",
              "      <td>Phone</td>\n",
              "      <td>Womens E-Mail</td>\n",
              "      <td>0</td>\n",
              "      <td>0</td>\n",
              "      <td>0.0</td>\n",
              "    </tr>\n",
              "    <tr>\n",
              "      <th>1</th>\n",
              "      <td>6</td>\n",
              "      <td>3) $200 - $350</td>\n",
              "      <td>329.08</td>\n",
              "      <td>1</td>\n",
              "      <td>1</td>\n",
              "      <td>Rural</td>\n",
              "      <td>1</td>\n",
              "      <td>Web</td>\n",
              "      <td>No E-Mail</td>\n",
              "      <td>0</td>\n",
              "      <td>0</td>\n",
              "      <td>0.0</td>\n",
              "    </tr>\n",
              "    <tr>\n",
              "      <th>2</th>\n",
              "      <td>7</td>\n",
              "      <td>2) $100 - $200</td>\n",
              "      <td>180.65</td>\n",
              "      <td>0</td>\n",
              "      <td>1</td>\n",
              "      <td>Surburban</td>\n",
              "      <td>1</td>\n",
              "      <td>Web</td>\n",
              "      <td>Womens E-Mail</td>\n",
              "      <td>0</td>\n",
              "      <td>0</td>\n",
              "      <td>0.0</td>\n",
              "    </tr>\n",
              "    <tr>\n",
              "      <th>3</th>\n",
              "      <td>9</td>\n",
              "      <td>5) $500 - $750</td>\n",
              "      <td>675.83</td>\n",
              "      <td>1</td>\n",
              "      <td>0</td>\n",
              "      <td>Rural</td>\n",
              "      <td>1</td>\n",
              "      <td>Web</td>\n",
              "      <td>Mens E-Mail</td>\n",
              "      <td>0</td>\n",
              "      <td>0</td>\n",
              "      <td>0.0</td>\n",
              "    </tr>\n",
              "    <tr>\n",
              "      <th>4</th>\n",
              "      <td>2</td>\n",
              "      <td>1) $0 - $100</td>\n",
              "      <td>45.34</td>\n",
              "      <td>1</td>\n",
              "      <td>0</td>\n",
              "      <td>Urban</td>\n",
              "      <td>0</td>\n",
              "      <td>Web</td>\n",
              "      <td>Womens E-Mail</td>\n",
              "      <td>0</td>\n",
              "      <td>0</td>\n",
              "      <td>0.0</td>\n",
              "    </tr>\n",
              "  </tbody>\n",
              "</table>\n",
              "</div>"
            ],
            "text/plain": [
              "   recency history_segment  history  mens  womens   zip_code  newbie channel  \\\n",
              "0       10  2) $100 - $200   142.44     1       0  Surburban       0   Phone   \n",
              "1        6  3) $200 - $350   329.08     1       1      Rural       1     Web   \n",
              "2        7  2) $100 - $200   180.65     0       1  Surburban       1     Web   \n",
              "3        9  5) $500 - $750   675.83     1       0      Rural       1     Web   \n",
              "4        2    1) $0 - $100    45.34     1       0      Urban       0     Web   \n",
              "\n",
              "         segment  visit  conversion  spend  \n",
              "0  Womens E-Mail      0           0    0.0  \n",
              "1      No E-Mail      0           0    0.0  \n",
              "2  Womens E-Mail      0           0    0.0  \n",
              "3    Mens E-Mail      0           0    0.0  \n",
              "4  Womens E-Mail      0           0    0.0  "
            ]
          },
          "metadata": {
            "tags": []
          },
          "execution_count": 11
        }
      ]
    },
    {
      "metadata": {
        "id": "K3ensY86D1rm",
        "colab_type": "code",
        "outputId": "d840ffba-3ade-48f3-8996-302d64c2df07",
        "colab": {
          "base_uri": "https://localhost:8080/",
          "height": 204
        }
      },
      "cell_type": "code",
      "source": [
        "# メールのカテゴリについて判定するのでメールを送っていないデータは外す\n",
        "df_mailed = df_raw[df_raw['segment'] != 'No E-Mail']\n",
        "df_mailed = df_mailed.reset_index(drop=True)\n",
        "df_mailed.head()"
      ],
      "execution_count": 0,
      "outputs": [
        {
          "output_type": "execute_result",
          "data": {
            "text/html": [
              "<div>\n",
              "<style scoped>\n",
              "    .dataframe tbody tr th:only-of-type {\n",
              "        vertical-align: middle;\n",
              "    }\n",
              "\n",
              "    .dataframe tbody tr th {\n",
              "        vertical-align: top;\n",
              "    }\n",
              "\n",
              "    .dataframe thead th {\n",
              "        text-align: right;\n",
              "    }\n",
              "</style>\n",
              "<table border=\"1\" class=\"dataframe\">\n",
              "  <thead>\n",
              "    <tr style=\"text-align: right;\">\n",
              "      <th></th>\n",
              "      <th>recency</th>\n",
              "      <th>history_segment</th>\n",
              "      <th>history</th>\n",
              "      <th>mens</th>\n",
              "      <th>womens</th>\n",
              "      <th>zip_code</th>\n",
              "      <th>newbie</th>\n",
              "      <th>channel</th>\n",
              "      <th>segment</th>\n",
              "      <th>visit</th>\n",
              "      <th>conversion</th>\n",
              "      <th>spend</th>\n",
              "    </tr>\n",
              "  </thead>\n",
              "  <tbody>\n",
              "    <tr>\n",
              "      <th>0</th>\n",
              "      <td>10</td>\n",
              "      <td>2) $100 - $200</td>\n",
              "      <td>142.44</td>\n",
              "      <td>1</td>\n",
              "      <td>0</td>\n",
              "      <td>Surburban</td>\n",
              "      <td>0</td>\n",
              "      <td>Phone</td>\n",
              "      <td>Womens E-Mail</td>\n",
              "      <td>0</td>\n",
              "      <td>0</td>\n",
              "      <td>0.0</td>\n",
              "    </tr>\n",
              "    <tr>\n",
              "      <th>1</th>\n",
              "      <td>7</td>\n",
              "      <td>2) $100 - $200</td>\n",
              "      <td>180.65</td>\n",
              "      <td>0</td>\n",
              "      <td>1</td>\n",
              "      <td>Surburban</td>\n",
              "      <td>1</td>\n",
              "      <td>Web</td>\n",
              "      <td>Womens E-Mail</td>\n",
              "      <td>0</td>\n",
              "      <td>0</td>\n",
              "      <td>0.0</td>\n",
              "    </tr>\n",
              "    <tr>\n",
              "      <th>2</th>\n",
              "      <td>9</td>\n",
              "      <td>5) $500 - $750</td>\n",
              "      <td>675.83</td>\n",
              "      <td>1</td>\n",
              "      <td>0</td>\n",
              "      <td>Rural</td>\n",
              "      <td>1</td>\n",
              "      <td>Web</td>\n",
              "      <td>Mens E-Mail</td>\n",
              "      <td>0</td>\n",
              "      <td>0</td>\n",
              "      <td>0.0</td>\n",
              "    </tr>\n",
              "    <tr>\n",
              "      <th>3</th>\n",
              "      <td>2</td>\n",
              "      <td>1) $0 - $100</td>\n",
              "      <td>45.34</td>\n",
              "      <td>1</td>\n",
              "      <td>0</td>\n",
              "      <td>Urban</td>\n",
              "      <td>0</td>\n",
              "      <td>Web</td>\n",
              "      <td>Womens E-Mail</td>\n",
              "      <td>0</td>\n",
              "      <td>0</td>\n",
              "      <td>0.0</td>\n",
              "    </tr>\n",
              "    <tr>\n",
              "      <th>4</th>\n",
              "      <td>6</td>\n",
              "      <td>2) $100 - $200</td>\n",
              "      <td>134.83</td>\n",
              "      <td>0</td>\n",
              "      <td>1</td>\n",
              "      <td>Surburban</td>\n",
              "      <td>0</td>\n",
              "      <td>Phone</td>\n",
              "      <td>Womens E-Mail</td>\n",
              "      <td>1</td>\n",
              "      <td>0</td>\n",
              "      <td>0.0</td>\n",
              "    </tr>\n",
              "  </tbody>\n",
              "</table>\n",
              "</div>"
            ],
            "text/plain": [
              "   recency history_segment  history  mens  womens   zip_code  newbie channel  \\\n",
              "0       10  2) $100 - $200   142.44     1       0  Surburban       0   Phone   \n",
              "1        7  2) $100 - $200   180.65     0       1  Surburban       1     Web   \n",
              "2        9  5) $500 - $750   675.83     1       0      Rural       1     Web   \n",
              "3        2    1) $0 - $100    45.34     1       0      Urban       0     Web   \n",
              "4        6  2) $100 - $200   134.83     0       1  Surburban       0   Phone   \n",
              "\n",
              "         segment  visit  conversion  spend  \n",
              "0  Womens E-Mail      0           0    0.0  \n",
              "1  Womens E-Mail      0           0    0.0  \n",
              "2    Mens E-Mail      0           0    0.0  \n",
              "3  Womens E-Mail      0           0    0.0  \n",
              "4  Womens E-Mail      1           0    0.0  "
            ]
          },
          "metadata": {
            "tags": []
          },
          "execution_count": 12
        }
      ]
    },
    {
      "metadata": {
        "id": "yiB91I9KN66e",
        "colab_type": "code",
        "outputId": "26c389b1-69e5-4333-9422-126ce617821d",
        "colab": {
          "base_uri": "https://localhost:8080/",
          "height": 34
        }
      },
      "cell_type": "code",
      "source": [
        "df_mailed.shape"
      ],
      "execution_count": 0,
      "outputs": [
        {
          "output_type": "execute_result",
          "data": {
            "text/plain": [
              "(42694, 12)"
            ]
          },
          "metadata": {
            "tags": []
          },
          "execution_count": 20
        }
      ]
    },
    {
      "metadata": {
        "id": "dkQK5PMWLkG6",
        "colab_type": "code",
        "outputId": "9981dee0-129e-4fb8-b05d-d452fc4b0a06",
        "colab": {
          "base_uri": "https://localhost:8080/",
          "height": 204
        }
      },
      "cell_type": "code",
      "source": [
        "# カテゴリ変数をダミー変数にする\n",
        "df_dummied = pd.get_dummies(\n",
        "    df_mailed[['zip_code', 'channel']], drop_first=True\n",
        ")\n",
        "\n",
        "# 不要な列は削除\n",
        "df_feature_vector = df_mailed.drop(['history_segment', 'zip_code', 'channel'\n",
        "                                                                , 'segment', 'visit', 'conversion', 'spend'], axis=1)\n",
        "\n",
        "df_feature_vector = df_feature_vector.join(df_dummied)\n",
        "df_feature_vector.head()"
      ],
      "execution_count": 0,
      "outputs": [
        {
          "output_type": "execute_result",
          "data": {
            "text/html": [
              "<div>\n",
              "<style scoped>\n",
              "    .dataframe tbody tr th:only-of-type {\n",
              "        vertical-align: middle;\n",
              "    }\n",
              "\n",
              "    .dataframe tbody tr th {\n",
              "        vertical-align: top;\n",
              "    }\n",
              "\n",
              "    .dataframe thead th {\n",
              "        text-align: right;\n",
              "    }\n",
              "</style>\n",
              "<table border=\"1\" class=\"dataframe\">\n",
              "  <thead>\n",
              "    <tr style=\"text-align: right;\">\n",
              "      <th></th>\n",
              "      <th>recency</th>\n",
              "      <th>history</th>\n",
              "      <th>mens</th>\n",
              "      <th>womens</th>\n",
              "      <th>newbie</th>\n",
              "      <th>zip_code_Surburban</th>\n",
              "      <th>zip_code_Urban</th>\n",
              "      <th>channel_Phone</th>\n",
              "      <th>channel_Web</th>\n",
              "    </tr>\n",
              "  </thead>\n",
              "  <tbody>\n",
              "    <tr>\n",
              "      <th>0</th>\n",
              "      <td>10</td>\n",
              "      <td>142.44</td>\n",
              "      <td>1</td>\n",
              "      <td>0</td>\n",
              "      <td>0</td>\n",
              "      <td>1</td>\n",
              "      <td>0</td>\n",
              "      <td>1</td>\n",
              "      <td>0</td>\n",
              "    </tr>\n",
              "    <tr>\n",
              "      <th>1</th>\n",
              "      <td>7</td>\n",
              "      <td>180.65</td>\n",
              "      <td>0</td>\n",
              "      <td>1</td>\n",
              "      <td>1</td>\n",
              "      <td>1</td>\n",
              "      <td>0</td>\n",
              "      <td>0</td>\n",
              "      <td>1</td>\n",
              "    </tr>\n",
              "    <tr>\n",
              "      <th>2</th>\n",
              "      <td>9</td>\n",
              "      <td>675.83</td>\n",
              "      <td>1</td>\n",
              "      <td>0</td>\n",
              "      <td>1</td>\n",
              "      <td>0</td>\n",
              "      <td>0</td>\n",
              "      <td>0</td>\n",
              "      <td>1</td>\n",
              "    </tr>\n",
              "    <tr>\n",
              "      <th>3</th>\n",
              "      <td>2</td>\n",
              "      <td>45.34</td>\n",
              "      <td>1</td>\n",
              "      <td>0</td>\n",
              "      <td>0</td>\n",
              "      <td>0</td>\n",
              "      <td>1</td>\n",
              "      <td>0</td>\n",
              "      <td>1</td>\n",
              "    </tr>\n",
              "    <tr>\n",
              "      <th>4</th>\n",
              "      <td>6</td>\n",
              "      <td>134.83</td>\n",
              "      <td>0</td>\n",
              "      <td>1</td>\n",
              "      <td>0</td>\n",
              "      <td>1</td>\n",
              "      <td>0</td>\n",
              "      <td>1</td>\n",
              "      <td>0</td>\n",
              "    </tr>\n",
              "  </tbody>\n",
              "</table>\n",
              "</div>"
            ],
            "text/plain": [
              "   recency  history  mens  womens  newbie  zip_code_Surburban  zip_code_Urban  \\\n",
              "0       10   142.44     1       0       0                   1               0   \n",
              "1        7   180.65     0       1       1                   1               0   \n",
              "2        9   675.83     1       0       1                   0               0   \n",
              "3        2    45.34     1       0       0                   0               1   \n",
              "4        6   134.83     0       1       0                   1               0   \n",
              "\n",
              "   channel_Phone  channel_Web  \n",
              "0              1            0  \n",
              "1              0            1  \n",
              "2              0            1  \n",
              "3              0            1  \n",
              "4              1            0  "
            ]
          },
          "metadata": {
            "tags": []
          },
          "execution_count": 13
        }
      ]
    },
    {
      "metadata": {
        "id": "iEXSE6nuMOl_",
        "colab_type": "code",
        "colab": {}
      },
      "cell_type": "code",
      "source": [
        "# 男性向けメールをtreatとする\n",
        "# サイト訪問をcvとする\n",
        "is_treat_list = list(df_mailed['segment'] == 'Mens E-Mail')\n",
        "is_cv_list = list(df_mailed['visit'] == 1)"
      ],
      "execution_count": 0,
      "outputs": []
    },
    {
      "metadata": {
        "id": "GpZqn3b6NS0T",
        "colab_type": "code",
        "colab": {}
      },
      "cell_type": "code",
      "source": [
        "from sklearn.model_selection import train_test_split"
      ],
      "execution_count": 0,
      "outputs": []
    },
    {
      "metadata": {
        "id": "lLoFMyXVNY8f",
        "colab_type": "code",
        "colab": {}
      },
      "cell_type": "code",
      "source": [
        "# 各データを半分つ\n",
        "train_is_cv_list, test_is_cv_list, train_is_treat_list, \\\n",
        "test_is_treat_list, df_train_feature_vector, df_test_feature_vector = \\\n",
        "    train_test_split(is_cv_list, is_treat_list, df_feature_vector, test_size=0.5, random_state=42)\n",
        "\n",
        "df_train_feature_vector = df_train_feature_vector.reset_index(drop=True)\n",
        "df_test_feature_vector = df_test_feature_vector.reset_index(drop=True)"
      ],
      "execution_count": 0,
      "outputs": []
    },
    {
      "metadata": {
        "id": "GJf-6KZ3NyDR",
        "colab_type": "code",
        "outputId": "de1df89a-ffe1-4000-c538-cba6c1cf3cf6",
        "colab": {
          "base_uri": "https://localhost:8080/",
          "height": 34
        }
      },
      "cell_type": "code",
      "source": [
        "df_train_feature_vector.shape"
      ],
      "execution_count": 0,
      "outputs": [
        {
          "output_type": "execute_result",
          "data": {
            "text/plain": [
              "(21347, 9)"
            ]
          },
          "metadata": {
            "tags": []
          },
          "execution_count": 27
        }
      ]
    },
    {
      "metadata": {
        "id": "9nrlfLKTN5EL",
        "colab_type": "code",
        "colab": {}
      },
      "cell_type": "code",
      "source": [
        "# train\n",
        "train_sample_num = len(train_is_cv_list)\n",
        "\n",
        "treat_is_cv_list = []\n",
        "treat_feature_vector_list = []\n",
        "control_is_cv_list = []\n",
        "control_feature_vector_list = []\n",
        "\n",
        "for i in range(train_sample_num):\n",
        "    if train_is_treat_list[i]:\n",
        "        treat_is_cv_list.append(train_is_cv_list[i])\n",
        "        treat_feature_vector_list.append(df_train_feature_vector.loc[i])\n",
        "    else:\n",
        "        control_is_cv_list.append(train_is_cv_list[i])\n",
        "        control_feature_vector_list.append(df_train_feature_vector.loc[i])\n",
        "      "
      ],
      "execution_count": 0,
      "outputs": []
    },
    {
      "metadata": {
        "id": "G-Kd66A4O1am",
        "colab_type": "code",
        "colab": {}
      },
      "cell_type": "code",
      "source": [
        "from sklearn.linear_model import LogisticRegression\n"
      ],
      "execution_count": 0,
      "outputs": []
    },
    {
      "metadata": {
        "id": "9Q8YpGQFQ11Y",
        "colab_type": "code",
        "outputId": "886f955e-0992-4a46-83ed-1987d100577a",
        "colab": {
          "base_uri": "https://localhost:8080/",
          "height": 85
        }
      },
      "cell_type": "code",
      "source": [
        "treat_model = LogisticRegression(C=0.01,  max_iter=200, solver='lbfgs') # in 0.22 changed to 'lbfgs'\n",
        "control_model = LogisticRegression(C=0.01,  max_iter=200, solver='lbfgs')\n",
        "\n",
        "treat_model.fit(treat_feature_vector_list, treat_is_cv_list)\n",
        "control_model.fit(control_feature_vector_list, control_is_cv_list)"
      ],
      "execution_count": 0,
      "outputs": [
        {
          "output_type": "execute_result",
          "data": {
            "text/plain": [
              "LogisticRegression(C=0.01, class_weight=None, dual=False, fit_intercept=True,\n",
              "          intercept_scaling=1, max_iter=200, multi_class='warn',\n",
              "          n_jobs=None, penalty='l2', random_state=None, solver='lbfgs',\n",
              "          tol=0.0001, verbose=0, warm_start=False)"
            ]
          },
          "metadata": {
            "tags": []
          },
          "execution_count": 37
        }
      ]
    },
    {
      "metadata": {
        "id": "eXiPwo-jRiuj",
        "colab_type": "code",
        "colab": {}
      },
      "cell_type": "code",
      "source": [
        "# test \n",
        "test_sample_num = len(test_is_cv_list)\n",
        "\n",
        "treat_is_cv_list = []\n",
        "treat_feature_vector_list = []\n",
        "control_is_cv_list = []\n",
        "control_feature_vector_list = []\n",
        "\n",
        "for i in range(test_sample_num):\n",
        "    if test_is_treat_list[i]:\n",
        "        treat_is_cv_list.append(test_is_cv_list[i])\n",
        "        treat_feature_vector_list.append(df_test_feature_vector.loc[i])\n",
        "    else:\n",
        "        control_is_cv_list.append(test_is_cv_list[i])\n",
        "        control_feature_vector_list.append(df_test_feature_vector.loc[i])\n",
        "      "
      ],
      "execution_count": 0,
      "outputs": []
    },
    {
      "metadata": {
        "id": "RU5yl4wzRCws",
        "colab_type": "code",
        "outputId": "b568ab67-9b0a-4864-8ca8-d5d855c5debc",
        "colab": {
          "base_uri": "https://localhost:8080/",
          "height": 34
        }
      },
      "cell_type": "code",
      "source": [
        "# cvを予測\n",
        "treat_score = treat_model.predict_proba(treat_feature_vector_list)\n",
        "control_score = control_model.predict_proba(control_feature_vector_list)\n",
        "\n",
        "print('treat', len(treat_score), 'control', len(control_score))"
      ],
      "execution_count": 0,
      "outputs": [
        {
          "output_type": "stream",
          "text": [
            "treat 10583 control 10764\n"
          ],
          "name": "stdout"
        }
      ]
    },
    {
      "metadata": {
        "id": "VuIHd2NwRREA",
        "colab_type": "code",
        "outputId": "d0f325ca-35a8-40a5-d4fe-0d0c62782c25",
        "colab": {
          "base_uri": "https://localhost:8080/",
          "height": 51
        }
      },
      "cell_type": "code",
      "source": [
        "# uplift modelのスコア算出\n",
        "# クラスの所属確率、1列目(コンバージョンした率)を使う\n",
        "# スコアが高いと、実験群のCVRが良く（高い）、統制群のCVR悪い（低い）、介入効果があると言える、低いとその逆\n",
        "len_score = min(len(treat_score), len(control_score))\n",
        "score_list = treat_score[:len_score, 1] / control_score[:len_score, 1]\n",
        "score_list"
      ],
      "execution_count": 0,
      "outputs": [
        {
          "output_type": "execute_result",
          "data": {
            "text/plain": [
              "array([1.11754044, 1.45904351, 1.30049082, ..., 0.51339794, 1.53146356,\n",
              "       2.19444033])"
            ]
          },
          "metadata": {
            "tags": []
          },
          "execution_count": 48
        }
      ]
    },
    {
      "metadata": {
        "id": "YWU4Li2USSL2",
        "colab_type": "code",
        "colab": {}
      },
      "cell_type": "code",
      "source": [
        "import pandas as pd\n",
        "import matplotlib.pyplot as plt\n",
        "from operator import itemgetter\n",
        "plt.style.use('ggplot')\n",
        "%matplotlib inline"
      ],
      "execution_count": 0,
      "outputs": []
    },
    {
      "metadata": {
        "id": "lUVuXZO9S0Ea",
        "colab_type": "code",
        "colab": {}
      },
      "cell_type": "code",
      "source": [
        "# スコア降順に並べ替え\n",
        "result = list(zip(test_is_cv_list, test_is_treat_list, score_list))\n",
        "result.sort(key=itemgetter(2), reverse=True)\n",
        "\n",
        "result"
      ],
      "execution_count": 0,
      "outputs": []
    },
    {
      "metadata": {
        "id": "ENjxDv3JS18U",
        "colab_type": "code",
        "colab": {}
      },
      "cell_type": "code",
      "source": [
        "# 10%ごとにカウント\n",
        "qdf = pd.DataFrame(columns=('treat_cvr', 'control_cvr'))\n",
        "\n",
        "for n in range(10):\n",
        "    # 10%ごとに取り出す\n",
        "    start = int(n * len(result) / 10)\n",
        "    end = int((n + 1) * len(result) / 10) - 1\n",
        "    quantiled_result = result[start:end]\n",
        "    \n",
        "    # controlとtreatの数を数える\n",
        "    treat_uu = list(map(lambda item: item[1], quantiled_result)).count(True)\n",
        "    control_uu = list(map(lambda item: item[1], quantiled_result)).count(False)\n",
        "    \n",
        "    # CV数を数える\n",
        "    treat_cv = [item[0] for item in quantiled_result if item[1] is True].count(True)\n",
        "    control_cv = [item[0] for item in quantiled_result if item[1] is False].count(True)\n",
        "    \n",
        "    # CVRに変換、dfに入れる\n",
        "    treat_cvr = treat_cv / treat_uu\n",
        "    control_cvr = control_cv / control_uu\n",
        "    \n",
        "    label = \"{}%-{}%\".format(n * 10, (n+1) * 10)\n",
        "    qdf.loc[label] = (treat_cvr, control_cvr)"
      ],
      "execution_count": 0,
      "outputs": []
    },
    {
      "metadata": {
        "id": "5QoeZFS5TlxT",
        "colab_type": "code",
        "outputId": "d1e60072-06c8-4045-9260-d3232863d210",
        "colab": {
          "base_uri": "https://localhost:8080/",
          "height": 204
        }
      },
      "cell_type": "code",
      "source": [
        "qdf.head()"
      ],
      "execution_count": 0,
      "outputs": [
        {
          "output_type": "execute_result",
          "data": {
            "text/html": [
              "<div>\n",
              "<style scoped>\n",
              "    .dataframe tbody tr th:only-of-type {\n",
              "        vertical-align: middle;\n",
              "    }\n",
              "\n",
              "    .dataframe tbody tr th {\n",
              "        vertical-align: top;\n",
              "    }\n",
              "\n",
              "    .dataframe thead th {\n",
              "        text-align: right;\n",
              "    }\n",
              "</style>\n",
              "<table border=\"1\" class=\"dataframe\">\n",
              "  <thead>\n",
              "    <tr style=\"text-align: right;\">\n",
              "      <th></th>\n",
              "      <th>treat_cvr</th>\n",
              "      <th>control_cvr</th>\n",
              "    </tr>\n",
              "  </thead>\n",
              "  <tbody>\n",
              "    <tr>\n",
              "      <th>0%-10%</th>\n",
              "      <td>0.173585</td>\n",
              "      <td>0.132827</td>\n",
              "    </tr>\n",
              "    <tr>\n",
              "      <th>10%-20%</th>\n",
              "      <td>0.196000</td>\n",
              "      <td>0.136445</td>\n",
              "    </tr>\n",
              "    <tr>\n",
              "      <th>20%-30%</th>\n",
              "      <td>0.202756</td>\n",
              "      <td>0.153005</td>\n",
              "    </tr>\n",
              "    <tr>\n",
              "      <th>30%-40%</th>\n",
              "      <td>0.208589</td>\n",
              "      <td>0.165202</td>\n",
              "    </tr>\n",
              "    <tr>\n",
              "      <th>40%-50%</th>\n",
              "      <td>0.155431</td>\n",
              "      <td>0.145315</td>\n",
              "    </tr>\n",
              "  </tbody>\n",
              "</table>\n",
              "</div>"
            ],
            "text/plain": [
              "         treat_cvr  control_cvr\n",
              "0%-10%    0.173585     0.132827\n",
              "10%-20%   0.196000     0.136445\n",
              "20%-30%   0.202756     0.153005\n",
              "30%-40%   0.208589     0.165202\n",
              "40%-50%   0.155431     0.145315"
            ]
          },
          "metadata": {
            "tags": []
          },
          "execution_count": 55
        }
      ]
    },
    {
      "metadata": {
        "id": "M3d3pLQ7Tm67",
        "colab_type": "code",
        "outputId": "ea3b5425-e07e-46e8-a391-a9a9b65accda",
        "colab": {
          "base_uri": "https://localhost:8080/",
          "height": 330
        }
      },
      "cell_type": "code",
      "source": [
        "# スコアが高い人(左の方)に介入した方がコンバージョンあげやすいと言える\n",
        "# この実験では男性向けメールを送る＝実験群なので\n",
        "# 80%までは男性向けメールを送った方が良い\n",
        "# 80-100%には女性向けメールの方がいいと言える\n",
        "qdf.plot.bar()\n",
        "plt.xlabel('uplift score percentile')\n",
        "plt.ylabel('cvr')\n",
        "plt.show()"
      ],
      "execution_count": 0,
      "outputs": [
        {
          "output_type": "display_data",
          "data": {
            "image/png": "[encoded data removed]",
            "text/plain": [
              "<Figure size 432x288 with 1 Axes>"
            ]
          },
          "metadata": {
            "tags": []
          }
        }
      ]
    },
    {
      "metadata": {
        "id": "3RmhmihzTpIw",
        "colab_type": "code",
        "outputId": "c3b2b3f3-0ad0-4620-bd94-522a48ac298f",
        "colab": {
          "base_uri": "https://localhost:8080/",
          "height": 204
        }
      },
      "cell_type": "code",
      "source": [
        "treat_uu = 0\n",
        "control_uu = 0\n",
        "treat_cv = 0\n",
        "control_cv = 0\n",
        "treat_cvr = 0.0\n",
        "control_cvr = 0.0\n",
        "lift = 0.0\n",
        "\n",
        "stat_data = []\n",
        "\n",
        "for is_cv, is_treat, score in result:\n",
        "    if is_treat:\n",
        "        treat_uu += 1\n",
        "        if is_cv:\n",
        "            treat_cv += 1\n",
        "        treat_cvr = treat_cv / treat_uu\n",
        "    else:\n",
        "        control_uu += 1\n",
        "        if is_cv:\n",
        "            control_cv += 1\n",
        "        control_cvr = control_cv / control_uu\n",
        "        \n",
        "    # liftの算出\n",
        "    # 実験群がどれくらいの人数コンバージョンを変化させたか\n",
        "    lift = (treat_cvr - control_cvr) * treat_uu\n",
        "    \n",
        "    stat_data.append([is_cv, is_treat, score, treat_uu, control_uu,\n",
        "                     treat_cv, control_cv, treat_cvr, control_cvr, lift])\n",
        "\n",
        "df = pd.DataFrame(stat_data)\n",
        "\n",
        "df.columns = [\n",
        "    'is_cv', 'is_treat', 'score', 'treat_uu', 'control_uu'\n",
        "    , 'treat_cv', 'control_cv', 'treat_cvr', 'control_cvr', 'lift'\n",
        "]\n",
        "\n",
        "# base lineを加える liftの終点についてデータの長さで割った数が各点になる\n",
        "df['base_line'] = df.index * df['lift'][len(df.index) - 1] / len(df.index)\n",
        "\n",
        "df.tail()"
      ],
      "execution_count": 0,
      "outputs": [
        {
          "output_type": "execute_result",
          "data": {
            "text/html": [
              "<div>\n",
              "<style scoped>\n",
              "    .dataframe tbody tr th:only-of-type {\n",
              "        vertical-align: middle;\n",
              "    }\n",
              "\n",
              "    .dataframe tbody tr th {\n",
              "        vertical-align: top;\n",
              "    }\n",
              "\n",
              "    .dataframe thead th {\n",
              "        text-align: right;\n",
              "    }\n",
              "</style>\n",
              "<table border=\"1\" class=\"dataframe\">\n",
              "  <thead>\n",
              "    <tr style=\"text-align: right;\">\n",
              "      <th></th>\n",
              "      <th>is_cv</th>\n",
              "      <th>is_treat</th>\n",
              "      <th>score</th>\n",
              "      <th>treat_uu</th>\n",
              "      <th>control_uu</th>\n",
              "      <th>treat_cv</th>\n",
              "      <th>control_cv</th>\n",
              "      <th>treat_cvr</th>\n",
              "      <th>control_cvr</th>\n",
              "      <th>lift</th>\n",
              "      <th>base_line</th>\n",
              "    </tr>\n",
              "  </thead>\n",
              "  <tbody>\n",
              "    <tr>\n",
              "      <th>10578</th>\n",
              "      <td>False</td>\n",
              "      <td>True</td>\n",
              "      <td>0.394748</td>\n",
              "      <td>5241</td>\n",
              "      <td>5338</td>\n",
              "      <td>963</td>\n",
              "      <td>831</td>\n",
              "      <td>0.183744</td>\n",
              "      <td>0.155676</td>\n",
              "      <td>147.100599</td>\n",
              "      <td>148.024976</td>\n",
              "    </tr>\n",
              "    <tr>\n",
              "      <th>10579</th>\n",
              "      <td>True</td>\n",
              "      <td>True</td>\n",
              "      <td>0.389830</td>\n",
              "      <td>5242</td>\n",
              "      <td>5338</td>\n",
              "      <td>964</td>\n",
              "      <td>831</td>\n",
              "      <td>0.183899</td>\n",
              "      <td>0.155676</td>\n",
              "      <td>147.944923</td>\n",
              "      <td>148.038969</td>\n",
              "    </tr>\n",
              "    <tr>\n",
              "      <th>10580</th>\n",
              "      <td>False</td>\n",
              "      <td>False</td>\n",
              "      <td>0.384137</td>\n",
              "      <td>5242</td>\n",
              "      <td>5339</td>\n",
              "      <td>964</td>\n",
              "      <td>831</td>\n",
              "      <td>0.183899</td>\n",
              "      <td>0.155647</td>\n",
              "      <td>148.097771</td>\n",
              "      <td>148.052963</td>\n",
              "    </tr>\n",
              "    <tr>\n",
              "      <th>10581</th>\n",
              "      <td>False</td>\n",
              "      <td>False</td>\n",
              "      <td>0.329377</td>\n",
              "      <td>5242</td>\n",
              "      <td>5340</td>\n",
              "      <td>964</td>\n",
              "      <td>831</td>\n",
              "      <td>0.183899</td>\n",
              "      <td>0.155618</td>\n",
              "      <td>148.250562</td>\n",
              "      <td>148.066956</td>\n",
              "    </tr>\n",
              "    <tr>\n",
              "      <th>10582</th>\n",
              "      <td>False</td>\n",
              "      <td>True</td>\n",
              "      <td>0.302743</td>\n",
              "      <td>5243</td>\n",
              "      <td>5340</td>\n",
              "      <td>964</td>\n",
              "      <td>831</td>\n",
              "      <td>0.183864</td>\n",
              "      <td>0.155618</td>\n",
              "      <td>148.094944</td>\n",
              "      <td>148.080950</td>\n",
              "    </tr>\n",
              "  </tbody>\n",
              "</table>\n",
              "</div>"
            ],
            "text/plain": [
              "       is_cv  is_treat     score  treat_uu  control_uu  treat_cv  control_cv  \\\n",
              "10578  False      True  0.394748      5241        5338       963         831   \n",
              "10579   True      True  0.389830      5242        5338       964         831   \n",
              "10580  False     False  0.384137      5242        5339       964         831   \n",
              "10581  False     False  0.329377      5242        5340       964         831   \n",
              "10582  False      True  0.302743      5243        5340       964         831   \n",
              "\n",
              "       treat_cvr  control_cvr        lift   base_line  \n",
              "10578   0.183744     0.155676  147.100599  148.024976  \n",
              "10579   0.183899     0.155676  147.944923  148.038969  \n",
              "10580   0.183899     0.155647  148.097771  148.052963  \n",
              "10581   0.183899     0.155618  148.250562  148.066956  \n",
              "10582   0.183864     0.155618  148.094944  148.080950  "
            ]
          },
          "metadata": {
            "tags": []
          },
          "execution_count": 57
        }
      ]
    },
    {
      "metadata": {
        "id": "YxH6t7SYTwev",
        "colab_type": "code",
        "outputId": "b3ad4767-4460-4605-9d75-4a8ce704f87b",
        "colab": {
          "base_uri": "https://localhost:8080/",
          "height": 286
        }
      },
      "cell_type": "code",
      "source": [
        "df.plot(y=['treat_cv', 'control_cv'],)\n",
        "plt.xlabel('uplist score rank')\n",
        "plt.ylabel('cv count')\n",
        "plt.show()"
      ],
      "execution_count": 0,
      "outputs": [
        {
          "output_type": "display_data",
          "data": {
            "image/png": "[encoded data removed]",
            "text/plain": [
              "<Figure size 432x288 with 1 Axes>"
            ]
          },
          "metadata": {
            "tags": []
          }
        }
      ]
    },
    {
      "metadata": {
        "id": "0ZGqQ9O0Tyyz",
        "colab_type": "code",
        "outputId": "3234ff10-7d86-40b5-c9b2-4ed733f0b065",
        "colab": {
          "base_uri": "https://localhost:8080/",
          "height": 286
        }
      },
      "cell_type": "code",
      "source": [
        "df.plot(y=['treat_cvr', 'control_cvr'],)\n",
        "plt.xlabel('uplist score rank')\n",
        "plt.ylabel('cvr')\n",
        "plt.show()"
      ],
      "execution_count": 0,
      "outputs": [
        {
          "output_type": "display_data",
          "data": {
            "image/png": "[encoded data removed]",
            "text/plain": [
              "<Figure size 432x288 with 1 Axes>"
            ]
          },
          "metadata": {
            "tags": []
          }
        }
      ]
    },
    {
      "metadata": {
        "id": "-iCvChE9T0Hw",
        "colab_type": "code",
        "outputId": "ed09e1e5-d37d-487b-c0f0-df3e5f8e8b4f",
        "colab": {
          "base_uri": "https://localhost:8080/",
          "height": 286
        }
      },
      "cell_type": "code",
      "source": [
        "# スコア高い順なので、最後の方は、統制群が勝ち、cv liftは下がる\n",
        "df.plot(y=['lift', 'base_line'],)\n",
        "plt.xlabel('uplist score rank')\n",
        "plt.ylabel('cv lift')\n",
        "plt.show()"
      ],
      "execution_count": 0,
      "outputs": [
        {
          "output_type": "display_data",
          "data": {
            "image/png": "[encoded data removed]",
            "text/plain": [
              "<Figure size 432x288 with 1 Axes>"
            ]
          },
          "metadata": {
            "tags": []
          }
        }
      ]
    },
    {
      "metadata": {
        "id": "G_y8Ou8aT1kT",
        "colab_type": "code",
        "outputId": "40ef4a58-e420-44ba-9b74-bbc20330bfd9",
        "colab": {
          "base_uri": "https://localhost:8080/",
          "height": 34
        }
      },
      "cell_type": "code",
      "source": [
        "auuc = (df['lift'] - df['base_line']).sum() / len(df['lift'])\n",
        "print('AUUC:', auuc)"
      ],
      "execution_count": 0,
      "outputs": [
        {
          "output_type": "stream",
          "text": [
            "AUUC: 25.96371364202987\n"
          ],
          "name": "stdout"
        }
      ]
    },
    {
      "metadata": {
        "id": "PzIYKa2sT3J7",
        "colab_type": "code",
        "outputId": "b660ef20-dcc3-4ee2-a85e-dbd40484883a",
        "colab": {
          "base_uri": "https://localhost:8080/",
          "height": 68
        }
      },
      "cell_type": "code",
      "source": [
        "df_feature_vector[['mens', 'womens']].count()"
      ],
      "execution_count": 0,
      "outputs": [
        {
          "output_type": "execute_result",
          "data": {
            "text/plain": [
              "mens      42694\n",
              "womens    42694\n",
              "dtype: int64"
            ]
          },
          "metadata": {
            "tags": []
          },
          "execution_count": 84
        }
      ]
    },
    {
      "metadata": {
        "id": "5gCs56FXUl_X",
        "colab_type": "code",
        "colab": {}
      },
      "cell_type": "code",
      "source": [
        ""
      ],
      "execution_count": 0,
      "outputs": []
    }
  ]
}