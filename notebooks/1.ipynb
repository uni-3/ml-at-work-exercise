{
  "nbformat": 4,
  "nbformat_minor": 0,
  "metadata": {
    "colab": {
      "name": "1.ipynb",
      "version": "0.3.2",
      "provenance": [],
      "collapsed_sections": [],
      "include_colab_link": true
    },
    "kernelspec": {
      "name": "python3",
      "display_name": "Python 3"
    }
  },
  "cells": [
    {
      "cell_type": "markdown",
      "metadata": {
        "id": "view-in-github",
        "colab_type": "text"
      },
      "source": [
        "<a href=\"https://colab.research.google.com/github/uni-3/ml-at-work-exercise/blob/master/notebooks/1.ipynb\" target=\"_parent\"><img src=\"https://colab.research.google.com/assets/colab-badge.svg\" alt=\"Open In Colab\"/></a>"
      ]
    },
    {
      "metadata": {
        "id": "LAEnzGNL3Mko",
        "colab_type": "text"
      },
      "cell_type": "markdown",
      "source": [
        "### 仮説検定(hypotheses testing)\n",
        "p110 -\n",
        "\n",
        "事象の生じる確率が低いとかの度合いを判定するときに使う\n",
        "\n",
        "帰無仮説(null hypotheses)、対立仮説(alternative hypothesis)を立て、どちらが真であるかを検定する\n",
        "\n",
        "コイントスの例では\n",
        "\n",
        "帰無仮説：表の出る確率は50％\n",
        "\n",
        "対立仮説：表の出る確率は50％と異なる\n",
        "\n",
        "帰無仮説が真であるとした時の確率をp-valueという\n",
        "\n",
        "p-valueの閾値は任意、5%より低い場合は帰無仮説を棄却する、などとする\n",
        "\n",
        "この閾値を有意水準(significant level)という\n",
        "\n",
        "有意水準 0.05の時、下の帰無仮説は棄却される、\n",
        "\n",
        "0.01のとき、帰無仮説は棄却されない\n",
        "\n"
      ]
    },
    {
      "metadata": {
        "id": "pjkC7gxsSzpB",
        "colab_type": "code",
        "outputId": "17900485-4b74-4cdf-81a2-9cae56021eab",
        "colab": {
          "base_uri": "https://localhost:8080/",
          "height": 190
        }
      },
      "cell_type": "code",
      "source": [
        "!pip install japanize-matplotlib"
      ],
      "execution_count": 0,
      "outputs": [
        {
          "output_type": "stream",
          "text": [
            "Collecting japanize-matplotlib\n",
            "\u001b[?25l  Downloading https://files.pythonhosted.org/packages/ac/6d/ac9891b0b2c76b9a2cee6302c3083f7992a9249583cd2b611cb9c7e2fb34/japanize-matplotlib-1.0.4.tar.gz (4.1MB)\n",
            "\u001b[K    100% |████████████████████████████████| 4.1MB 6.9MB/s \n",
            "\u001b[?25hBuilding wheels for collected packages: japanize-matplotlib\n",
            "  Building wheel for japanize-matplotlib (setup.py) ... \u001b[?25ldone\n",
            "\u001b[?25h  Stored in directory: /root/.cache/pip/wheels/47/d1/ba/1a686af7cc042edde2c2f4cb18bd981f7eefdcbfe688590d25\n",
            "Successfully built japanize-matplotlib\n",
            "Installing collected packages: japanize-matplotlib\n",
            "Successfully installed japanize-matplotlib-1.0.4\n"
          ],
          "name": "stdout"
        }
      ]
    },
    {
      "metadata": {
        "id": "YJEQwS8M3RGf",
        "colab_type": "code",
        "colab": {}
      },
      "cell_type": "code",
      "source": [
        "import pandas as pd\n",
        "import numpy as np\n",
        "import matplotlib.pyplot as plt\n",
        "import japanize_matplotlib\n",
        "import scipy.stats"
      ],
      "execution_count": 0,
      "outputs": []
    },
    {
      "metadata": {
        "id": "IFzhzKcV3jlj",
        "colab_type": "code",
        "outputId": "a25e245e-369d-4239-bfe3-d1b6ac80d14c",
        "colab": {
          "base_uri": "https://localhost:8080/",
          "height": 173
        }
      },
      "cell_type": "code",
      "source": [
        "# 20回コインを投げると、１０回表が出る確率が高い\n",
        "# 二項分布\n",
        "x = np.arange(0, 21)\n",
        "y = scipy.stats.binom.pmf(x, 20, 0.5)\n",
        "\n",
        "plt.figure(figsize=(8, 2))\n",
        "plt.bar(x, y)\n",
        "plt.xlabel('freq of heads(表)')\n",
        "plt.ylabel('p')\n",
        "plt.show()"
      ],
      "execution_count": 0,
      "outputs": [
        {
          "output_type": "display_data",
          "data": {
            "image/png": "[encoded data removed]",
            "text/plain": [
              "<Figure size 576x144 with 1 Axes>"
            ]
          },
          "metadata": {
            "tags": []
          }
        }
      ]
    },
    {
      "metadata": {
        "id": "3psWpqKY4Ba4",
        "colab_type": "code",
        "outputId": "77010d7f-b8cb-42e2-e48f-8ace8c555baf",
        "colab": {
          "base_uri": "https://localhost:8080/",
          "height": 34
        }
      },
      "cell_type": "code",
      "source": [
        "# 15回以上表の出る確率pは2%くらい\n",
        "p_value = pd.DataFrame({'n_heads': x\n",
        "                        , 'p': y}).query('n_heads >= 15')['p'].sum()\n",
        "\n",
        "p_value"
      ],
      "execution_count": 0,
      "outputs": [
        {
          "output_type": "execute_result",
          "data": {
            "text/plain": [
              "0.02069473266601554"
            ]
          },
          "metadata": {
            "tags": []
          },
          "execution_count": 34
        }
      ]
    },
    {
      "metadata": {
        "id": "Pu4Y8P6Y_Qx7",
        "colab_type": "text"
      },
      "cell_type": "markdown",
      "source": [
        "#### 二群の母比率の差の検定"
      ]
    },
    {
      "metadata": {
        "id": "A7r_4FiS9XbW",
        "colab_type": "code",
        "outputId": "29163374-8cc8-497d-d124-16974085cac8",
        "colab": {
          "base_uri": "https://localhost:8080/",
          "height": 51
        }
      },
      "cell_type": "code",
      "source": [
        "# 継続人数、離脱人数\n",
        "# サンプルサイズが大きいので、二項分布を正規近似する\n",
        "a = [40, 165]\n",
        "b = [62, 228]\n",
        "\n",
        "print('a: size = {}, converted = {}, mean = {:.3f}'.format(sum(a), a[0], a[0]/sum(a)))\n",
        "\n",
        "print('b: size = {}, converted = {}, mean = {:.3f}'.format(sum(b), b[0], b[0]/sum(b)))"
      ],
      "execution_count": 0,
      "outputs": [
        {
          "output_type": "stream",
          "text": [
            "a: size = 205, converted = 40, mean = 0.195\n",
            "b: size = 290, converted = 62, mean = 0.214\n"
          ],
          "name": "stdout"
        }
      ]
    },
    {
      "metadata": {
        "id": "p82ZRmT6_jAN",
        "colab_type": "code",
        "colab": {}
      },
      "cell_type": "code",
      "source": [
        "x = np.linspace(0, 1, 200)"
      ],
      "execution_count": 0,
      "outputs": []
    },
    {
      "metadata": {
        "id": "pOV-BFHZRcBc",
        "colab_type": "code",
        "colab": {}
      },
      "cell_type": "code",
      "source": [
        "# aからきた人の分布\n",
        "n = sum(a)\n",
        "p = a[0] / n\n",
        "std = np.sqrt(p*(1-p)/n)\n",
        "\n",
        "y_a = scipy.stats.norm.pdf(x, p, std)"
      ],
      "execution_count": 0,
      "outputs": []
    },
    {
      "metadata": {
        "id": "43plOvNjRiNn",
        "colab_type": "code",
        "colab": {}
      },
      "cell_type": "code",
      "source": [
        "# bからきた人の分布\n",
        "n = sum(b)\n",
        "p = b[0] / n\n",
        "std = np.sqrt(p*(1-p)/n)\n",
        "\n",
        "y_b = scipy.stats.norm.pdf(x, p, std)"
      ],
      "execution_count": 0,
      "outputs": []
    },
    {
      "metadata": {
        "id": "ucdmInvmR1ub",
        "colab_type": "code",
        "outputId": "39f65300-8fed-44f7-a627-87a4eae21c4f",
        "colab": {
          "base_uri": "https://localhost:8080/",
          "height": 174
        }
      },
      "cell_type": "code",
      "source": [
        "plt.figure(figsize=(7, 2))\n",
        "plt.plot(x, y_a, label='A')\n",
        "plt.plot(x, y_b, label='B')\n",
        "\n",
        "plt.legend(loc='best')\n",
        "plt.xlabel('Continuation rate(新規ユーザの継続率)')\n",
        "plt.ylabel('Likelihood(尤度)')\n",
        "plt.show()"
      ],
      "execution_count": 0,
      "outputs": [
        {
          "output_type": "display_data",
          "data": {
            "image/png": "[encoded data removed]",
            "text/plain": [
              "<Figure size 504x144 with 1 Axes>"
            ]
          },
          "metadata": {
            "tags": []
          }
        }
      ]
    },
    {
      "metadata": {
        "id": "9xsLqJ0MStEU",
        "colab_type": "code",
        "outputId": "a56e3e47-d193-43de-a5cb-462ecfa620bf",
        "colab": {
          "base_uri": "https://localhost:8080/",
          "height": 34
        }
      },
      "cell_type": "code",
      "source": [
        "# 仮説検定にて、Bのがいいのかどうか検定する\n",
        "# 帰無仮説：継続化率等しい\n",
        "# 対立仮設：継続化率差がある\n",
        "# p-value 0.05\n",
        "\n",
        "# カイ二乗検定\n",
        "# 帰無仮説は棄却できない、差があるとは言えない、という結論\n",
        "_, p_value, _, _ = scipy.stats.chi2_contingency([a, b])\n",
        "p_value"
      ],
      "execution_count": 0,
      "outputs": [
        {
          "output_type": "execute_result",
          "data": {
            "text/plain": [
              "0.694254736449269"
            ]
          },
          "metadata": {
            "tags": []
          },
          "execution_count": 43
        }
      ]
    },
    {
      "metadata": {
        "id": "kaMlUYJCVqQC",
        "colab_type": "text"
      },
      "cell_type": "markdown",
      "source": [
        "#### 仮説検定の注意点\n",
        "- 何回も検定をすると、標本を変えて検定すると偶然有意差が出たりする\n",
        "たまに、p値が低くなる瞬間がある、偽陽性の確率が増える\n"
      ]
    },
    {
      "metadata": {
        "id": "FnOdEFKXTthW",
        "colab_type": "code",
        "colab": {}
      },
      "cell_type": "code",
      "source": [
        "mu = 0.5\n",
        "init_sample = list(scipy.stats.bernoulli.rvs(mu, size=20))\n",
        "\n",
        "sample = init_sample\n",
        "p_value_history = []\n",
        "for i in range(200):\n",
        "    # 直近のサンプルで検定\n",
        "    _, p_value = scipy.stats.ttest_1samp(sample[-20:], 0.5)\n",
        "    p_value_history.append(p_value)\n",
        "    # 新たにサンプル追加\n",
        "    sample.append(scipy.stats.bernoulli.rvs(mu))"
      ],
      "execution_count": 0,
      "outputs": []
    },
    {
      "metadata": {
        "id": "cwmXNHduWeXN",
        "colab_type": "code",
        "outputId": "434ffbb4-3d43-4edc-fa9d-d8aa2165f644",
        "colab": {
          "base_uri": "https://localhost:8080/",
          "height": 281
        }
      },
      "cell_type": "code",
      "source": [
        "plt.figure(figsize=(10, 4))\n",
        "plt.plot(p_value_history)\n",
        "plt.xlabel('test epoch')\n",
        "plt.ylabel('p-value')\n",
        "plt.show()"
      ],
      "execution_count": 0,
      "outputs": [
        {
          "output_type": "display_data",
          "data": {
            "image/png": "[encoded data removed]",
            "text/plain": [
              "<Figure size 720x288 with 1 Axes>"
            ]
          },
          "metadata": {
            "tags": []
          }
        }
      ]
    },
    {
      "metadata": {
        "id": "ji9H-el-Y6Et",
        "colab_type": "code",
        "colab": {}
      },
      "cell_type": "code",
      "source": [
        "# 95%信頼区間をみる\n",
        "from statsmodels.stats.proportion import proportion_confint"
      ],
      "execution_count": 0,
      "outputs": []
    },
    {
      "metadata": {
        "id": "10jeF6eoWqyH",
        "colab_type": "code",
        "colab": {}
      },
      "cell_type": "code",
      "source": [
        "# 平均の差が小さい、確かに差は出るが、問題に対して意味のある差なのか注意する必要がある\n",
        "a2 = scipy.stats.bernoulli.rvs(0.451, size=3000000)\n",
        "b2 = scipy.stats.bernoulli.rvs(0.452, size=3000000)\n",
        "\n",
        "a_lower, a_upper = proportion_confint(sum(a2), len(a2), alpha=0.05, method='wilson')\n",
        "b_lower, b_upper = proportion_confint(sum(b2), len(b2), alpha=0.05, method='wilson')"
      ],
      "execution_count": 0,
      "outputs": []
    },
    {
      "metadata": {
        "id": "DZDehpHxZR9I",
        "colab_type": "code",
        "outputId": "42177f74-24e6-481c-c8f5-9a638d5732e5",
        "colab": {
          "base_uri": "https://localhost:8080/",
          "height": 292
        }
      },
      "cell_type": "code",
      "source": [
        "plt.plot(1, np.mean(a2), 'ro')\n",
        "plt.plot(2, np.mean(b2), 'bo')\n",
        "\n",
        "plt.plot([1, 1], [a_lower, a_upper], 'r-')\n",
        "plt.plot([2, 2], [b_lower, b_upper], 'b-')\n",
        "\n",
        "plt.ylim(0.448, 0.454)\n",
        "plt.xlim(0, 3)\n",
        "plt.xticks([1, 2], ['A', 'B'], fontsize=20)\n",
        "plt.xlabel('sample size')\n",
        "plt.ylabel('mean')\n",
        "\n",
        "plt.show()"
      ],
      "execution_count": 0,
      "outputs": [
        {
          "output_type": "display_data",
          "data": {
            "image/png": "[encoded data removed]",
            "text/plain": [
              "<Figure size 432x288 with 1 Axes>"
            ]
          },
          "metadata": {
            "tags": []
          }
        }
      ]
    },
    {
      "metadata": {
        "id": "AGQrgxAIbcSf",
        "colab_type": "text"
      },
      "cell_type": "markdown",
      "source": [
        "#### 複数の検定を同時に行う\n",
        "複数の仮設を検定する多重検定(multiple testion)という\n",
        "\n",
        "複数の説明変数に対して、\n",
        "目的関数と有意に相関があるかみるときに使う\n",
        "\n",
        "説明変数の数Mだけ検定を行う、すなわち、説明変数が多くなるにつれ、偽陽性が起こる確率も大きくなる\n",
        "\n",
        "これを抑制するには、\n",
        "\n",
        "1つでも誤った発見をする確率(family wise error rate: FWER)を抑制する方法と\n",
        "\n",
        "有意水準をaからa/Mにするなどする。この方法だと、有意水準が下がっていき、検定力（帰無仮説が誤りである場合に、正しく帰無仮説を棄却できる確率）が落ちる\n",
        "\n",
        "誤った発見の割合(false discovery rate: FDR)を抑制する方法がある\n",
        "\n",
        "検定力がほしいときにはこちらを用いる\n",
        "\n"
      ]
    },
    {
      "metadata": {
        "id": "IXvPGuVGdt3N",
        "colab_type": "text"
      },
      "cell_type": "markdown",
      "source": [
        "#### 因果効果の推定\n",
        "\n",
        "ルービンの因果モデル\n",
        "\n",
        "- 介入(cause)：広告を見せる\n",
        "- 結果変数(outcom): 購買行動\n",
        "\n",
        "介入した標本を介入群 or 実験群\n",
        "\n",
        "介入してない標本を対象群 or 統制群と呼ぶ\n",
        "\n",
        "実際には同じ人が広告を見た、か見ないのどちらかになるため、観測できるのは介入したかしていない場合のどちらかになる。\n",
        "\n",
        "片方観測されればもう片方は反事実(counter factual)となり、観測できない。\n",
        "\n",
        "ルービンの因果モデルでは観測できないが潜在的に存在しうる結果変数を考え、それを潜在的結果変数と呼ぶ"
      ]
    },
    {
      "metadata": {
        "id": "30nwqrHtaATY",
        "colab_type": "code",
        "colab": {}
      },
      "cell_type": "code",
      "source": [
        ""
      ],
      "execution_count": 0,
      "outputs": []
    }
  ]
}