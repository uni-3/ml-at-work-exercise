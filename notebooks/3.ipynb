{
  "nbformat": 4,
  "nbformat_minor": 0,
  "metadata": {
    "colab": {
      "name": "3.ipynb",
      "version": "0.3.2",
      "provenance": [],
      "collapsed_sections": [],
      "include_colab_link": true
    },
    "kernelspec": {
      "name": "python3",
      "display_name": "Python 3"
    }
  },
  "cells": [
    {
      "cell_type": "markdown",
      "metadata": {
        "id": "view-in-github",
        "colab_type": "text"
      },
      "source": [
        "<a href=\"https://colab.research.google.com/github/uni-3/ml-at-work-exercise/blob/master/notebooks/3.ipynb\" target=\"_parent\"><img src=\"https://colab.research.google.com/assets/colab-badge.svg\" alt=\"Open In Colab\"/></a>"
      ]
    },
    {
      "metadata": {
        "id": "c6j-rn1mJzrG",
        "colab_type": "text"
      },
      "cell_type": "markdown",
      "source": [
        "### 9章 uplift modeling\n",
        "\n",
        "p 192"
      ]
    },
    {
      "metadata": {
        "id": "hm5vUG6uJ-ur",
        "colab_type": "code",
        "colab": {}
      },
      "cell_type": "code",
      "source": [
        "import random"
      ],
      "execution_count": 0,
      "outputs": []
    },
    {
      "metadata": {
        "id": "sESO1xyfJwYo",
        "colab_type": "code",
        "colab": {}
      },
      "cell_type": "code",
      "source": [
        "# dataset生成\n",
        "def generate_sample_data(num, seed=123):\n",
        "    # returns\n",
        "    # コンバージョンしたか否か\n",
        "    is_cv_list = []\n",
        "    # 実験群か否か\n",
        "    is_treat_list = []\n",
        "    feature_vector_list = []\n",
        "    \n",
        "    random_instance = random.Random(seed)\n",
        "    \n",
        "    # 特徴量の数\n",
        "    feature_num = 8\n",
        "    # 統制群がもつ重み\n",
        "    base_weight = [0.02, 0.03, 0.05, -0.04, 0.00, 0.00, 0.00, 0.00]\n",
        "    # 実験群に足される重み(介入により変化する重み)\n",
        "    lift_weight = [0.00, 0.00, 0.00, 0.05, -0.05, 0.00, 0.00, 0.00]\n",
        "    \n",
        "    # ユーザの数だけ実行\n",
        "    for i in range(num):\n",
        "        # ランダムに特徴ベクトル生成 [0, 1]\n",
        "        feature_vector = [\n",
        "            random_instance.random() for n in range(feature_num)\n",
        "        ]\n",
        "        \n",
        "        # 実験群の振り分け（ランダム）\n",
        "        is_treat = random_instance.choice((True, False))\n",
        "\n",
        "        # コンバージョンレートを計算 内積\n",
        "        cv_rate = sum([feature_vector[n] * base_weight[n] for n in range(feature_num)])\n",
        "        \n",
        "        # 実験群ならばさらにlift_weightと内積をとる\n",
        "        if is_treat:\n",
        "            cv_rate += sum([feature_vector[n] * lift_weight[n] for n in range(feature_num)])\n",
        "            \n",
        "        #  コンバージョンしたか否か、確率的に決まる\n",
        "        is_cv = cv_rate > random_instance.random()\n",
        "        \n",
        "        is_cv_list.append(is_cv)\n",
        "        is_treat_list.append(is_treat)\n",
        "        feature_vector_list.append(feature_vector)\n",
        "        \n",
        "    return is_cv_list, is_treat_list, feature_vector_list"
      ],
      "execution_count": 0,
      "outputs": []
    },
    {
      "metadata": {
        "id": "tbhxy5cflUxZ",
        "colab_type": "code",
        "colab": {}
      },
      "cell_type": "code",
      "source": [
        "# 予測モデルの作成 \n",
        "# 学習データ生成\n",
        "sample_num = 10000\n",
        "train_cvs, train_treats, train_feature_vectors = generate_sample_data(sample_num, seed=1)\n"
      ],
      "execution_count": 0,
      "outputs": []
    },
    {
      "metadata": {
        "id": "ecWeTpw5mMfL",
        "colab_type": "code",
        "outputId": "456912af-49f0-4a8f-a6de-93f0621bfad5",
        "colab": {
          "base_uri": "https://localhost:8080/",
          "height": 51
        }
      },
      "cell_type": "code",
      "source": [
        "# treatmentとcontrolに分離\n",
        "\n",
        "treat_is_cv_list = []\n",
        "treat_feature_vector_list = []\n",
        "control_is_cv_list = []\n",
        "control_feature_vector_list = []\n",
        "\n",
        "for i in range(sample_num):\n",
        "    # 実験群\n",
        "    if train_treats[i]:\n",
        "        treat_is_cv_list.append(train_cvs[i])\n",
        "        treat_feature_vector_list .append(train_feature_vectors[i])\n",
        "    # 統制群    \n",
        "    else:\n",
        "        control_is_cv_list.append(train_cvs[i])\n",
        "        control_feature_vector_list .append(train_feature_vectors[i])\n",
        "        \n",
        "# コンバージョンレートを表示(各群の中でcvした人)\n",
        "# 実験群3.69% 統制群3.62%\n",
        "print('treatment_cvr:', treat_is_cv_list.count(True) / len(treat_is_cv_list))\n",
        "\n",
        "print('control_cvr:', control_is_cv_list.count(True) / len(control_is_cv_list))"
      ],
      "execution_count": 0,
      "outputs": [
        {
          "output_type": "stream",
          "text": [
            "treatment_cvr: 0.036918778686888844\n",
            "control_cvr: 0.03627981559430748\n"
          ],
          "name": "stdout"
        }
      ]
    },
    {
      "metadata": {
        "id": "mlLdwXIqmY6j",
        "colab_type": "code",
        "colab": {}
      },
      "cell_type": "code",
      "source": [
        "# 特徴量を元にセグメントして、どの層に効果があったのかみる\n",
        "from sklearn.linear_model import LogisticRegression"
      ],
      "execution_count": 0,
      "outputs": []
    },
    {
      "metadata": {
        "id": "4NVammSKm9fl",
        "colab_type": "code",
        "outputId": "6065ac5f-36cc-4b76-b04b-6ef4ad0675c9",
        "colab": {
          "base_uri": "https://localhost:8080/",
          "height": 85
        }
      },
      "cell_type": "code",
      "source": [
        "treat_model = LogisticRegression(C=0.01,  solver='lbfgs') # in 0.22 changed to 'lbfgs'\n",
        "control_model = LogisticRegression(C=0.01,  solver='lbfgs')\n",
        "\n",
        "treat_model.fit(treat_feature_vector_list, treat_is_cv_list)\n",
        "control_model.fit(control_feature_vector_list, control_is_cv_list)\n"
      ],
      "execution_count": 0,
      "outputs": [
        {
          "output_type": "execute_result",
          "data": {
            "text/plain": [
              "LogisticRegression(C=0.01, class_weight=None, dual=False, fit_intercept=True,\n",
              "          intercept_scaling=1, max_iter=100, multi_class='warn',\n",
              "          n_jobs=None, penalty='l2', random_state=None, solver='lbfgs',\n",
              "          tol=0.0001, verbose=0, warm_start=False)"
            ]
          },
          "metadata": {
            "tags": []
          },
          "execution_count": 61
        }
      ]
    },
    {
      "metadata": {
        "id": "nI2aQPxEr56Y",
        "colab_type": "code",
        "colab": {}
      },
      "cell_type": "code",
      "source": [
        "# testデータの生成\n",
        "test_cvs, test_treats, test_feature_vectors = generate_sample_data(sample_num, seed=42)\n",
        "\n",
        "# cvを予測\n",
        "treat_score = treat_model.predict_proba(test_feature_vectors)\n",
        "control_score = control_model.predict_proba(test_feature_vectors)"
      ],
      "execution_count": 0,
      "outputs": []
    },
    {
      "metadata": {
        "id": "xf_7qVpXthMP",
        "colab_type": "code",
        "outputId": "fb8e580f-08c4-4bf1-c490-be54960e79b2",
        "colab": {
          "base_uri": "https://localhost:8080/",
          "height": 136
        }
      },
      "cell_type": "code",
      "source": [
        "# 各々の所属確率がでる\n",
        "treat_score"
      ],
      "execution_count": 0,
      "outputs": [
        {
          "output_type": "execute_result",
          "data": {
            "text/plain": [
              "array([[0.96735513, 0.03264487],\n",
              "       [0.96609679, 0.03390321],\n",
              "       [0.95806294, 0.04193706],\n",
              "       ...,\n",
              "       [0.96552777, 0.03447223],\n",
              "       [0.95664114, 0.04335886],\n",
              "       [0.96125385, 0.03874615]])"
            ]
          },
          "metadata": {
            "tags": []
          },
          "execution_count": 105
        }
      ]
    },
    {
      "metadata": {
        "id": "lbVi0fSXtVbJ",
        "colab_type": "code",
        "outputId": "cdc8c39e-21b0-443b-9ce7-5f132e156359",
        "colab": {
          "base_uri": "https://localhost:8080/",
          "height": 51
        }
      },
      "cell_type": "code",
      "source": [
        "# uplift modelのスコア算出\n",
        "# クラスの所属確率、1列目(コンバージョンした率)を使う\n",
        "# スコアが高いと、実験群のCVRが良く（高い）、統制群のCVR悪い（低い）、介入効果があると言える、低いとその逆\n",
        "score_list = treat_score[:, 1] / control_score[:, 1]\n",
        "score_list"
      ],
      "execution_count": 0,
      "outputs": [
        {
          "output_type": "execute_result",
          "data": {
            "text/plain": [
              "array([0.8876401 , 0.98507892, 1.10637765, ..., 1.10174057, 1.20632295,\n",
              "       1.06180095])"
            ]
          },
          "metadata": {
            "tags": []
          },
          "execution_count": 115
        }
      ]
    },
    {
      "metadata": {
        "id": "hPfJwxLKt3Sr",
        "colab_type": "code",
        "colab": {}
      },
      "cell_type": "code",
      "source": [
        "import pandas as pd\n",
        "import matplotlib.pyplot as plt\n",
        "from operator import itemgetter\n",
        "plt.style.use('ggplot')\n",
        "%matplotlib inline"
      ],
      "execution_count": 0,
      "outputs": []
    },
    {
      "metadata": {
        "id": "RWkEzcw1u86K",
        "colab_type": "code",
        "colab": {}
      },
      "cell_type": "code",
      "source": [
        "# スコア降順に並べ替え\n",
        "result = list(zip(test_cvs, test_treats, score_list))\n",
        "result.sort(key=itemgetter(2), reverse=True)\n",
        "\n",
        "result"
      ],
      "execution_count": 0,
      "outputs": []
    },
    {
      "metadata": {
        "id": "VOSx6Ro0Ao2o",
        "colab_type": "code",
        "colab": {}
      },
      "cell_type": "code",
      "source": [
        "# 10%ごとにカウント\n",
        "qdf = pd.DataFrame(columns=('treat_cvr', 'control_cvr'))\n",
        "\n",
        "for n in range(10):\n",
        "    # 10%ごとに取り出す\n",
        "    start = int(n * len(result) / 10)\n",
        "    end = int((n + 1) * len(result) / 10) - 1\n",
        "    quantiled_result = result[start:end]\n",
        "    \n",
        "    # controlとtreatの数を数える\n",
        "    treat_uu = list(map(lambda item: item[1], quantiled_result)).count(True)\n",
        "    control_uu = list(map(lambda item: item[1], quantiled_result)).count(False)\n",
        "    \n",
        "    # CV数を数える\n",
        "    treat_cv = [item[0] for item in quantiled_result if item[1] is True].count(True)\n",
        "    control_cv = [item[0] for item in quantiled_result if item[1] is False].count(True)\n",
        "    \n",
        "    # CVRに変換、dfに入れる\n",
        "    treat_cvr = treat_cv / treat_uu\n",
        "    control_cvr = control_cv / control_uu\n",
        "    \n",
        "    label = \"{}%-{}%\".format(n * 10, (n+1) * 10)\n",
        "    qdf.loc[label] = (treat_cvr, control_cvr)"
      ],
      "execution_count": 0,
      "outputs": []
    },
    {
      "metadata": {
        "id": "PrhlS_Ylw2s2",
        "colab_type": "code",
        "outputId": "6c49116a-d54b-4c01-9fc9-dbcd0a766651",
        "colab": {
          "base_uri": "https://localhost:8080/",
          "height": 204
        }
      },
      "cell_type": "code",
      "source": [
        "qdf.head()"
      ],
      "execution_count": 0,
      "outputs": [
        {
          "output_type": "execute_result",
          "data": {
            "text/html": [
              "<div>\n",
              "<style scoped>\n",
              "    .dataframe tbody tr th:only-of-type {\n",
              "        vertical-align: middle;\n",
              "    }\n",
              "\n",
              "    .dataframe tbody tr th {\n",
              "        vertical-align: top;\n",
              "    }\n",
              "\n",
              "    .dataframe thead th {\n",
              "        text-align: right;\n",
              "    }\n",
              "</style>\n",
              "<table border=\"1\" class=\"dataframe\">\n",
              "  <thead>\n",
              "    <tr style=\"text-align: right;\">\n",
              "      <th></th>\n",
              "      <th>treat_cvr</th>\n",
              "      <th>control_cvr</th>\n",
              "    </tr>\n",
              "  </thead>\n",
              "  <tbody>\n",
              "    <tr>\n",
              "      <th>0%-10%</th>\n",
              "      <td>0.057732</td>\n",
              "      <td>0.025292</td>\n",
              "    </tr>\n",
              "    <tr>\n",
              "      <th>10%-20%</th>\n",
              "      <td>0.057654</td>\n",
              "      <td>0.028226</td>\n",
              "    </tr>\n",
              "    <tr>\n",
              "      <th>20%-30%</th>\n",
              "      <td>0.024341</td>\n",
              "      <td>0.043478</td>\n",
              "    </tr>\n",
              "    <tr>\n",
              "      <th>30%-40%</th>\n",
              "      <td>0.032787</td>\n",
              "      <td>0.023483</td>\n",
              "    </tr>\n",
              "    <tr>\n",
              "      <th>40%-50%</th>\n",
              "      <td>0.042169</td>\n",
              "      <td>0.033932</td>\n",
              "    </tr>\n",
              "  </tbody>\n",
              "</table>\n",
              "</div>"
            ],
            "text/plain": [
              "         treat_cvr  control_cvr\n",
              "0%-10%    0.057732     0.025292\n",
              "10%-20%   0.057654     0.028226\n",
              "20%-30%   0.024341     0.043478\n",
              "30%-40%   0.032787     0.023483\n",
              "40%-50%   0.042169     0.033932"
            ]
          },
          "metadata": {
            "tags": []
          },
          "execution_count": 118
        }
      ]
    },
    {
      "metadata": {
        "id": "cFPwqEoSw4RQ",
        "colab_type": "code",
        "outputId": "5a627ea6-9116-4781-b6e5-45bd61e93409",
        "colab": {
          "base_uri": "https://localhost:8080/",
          "height": 330
        }
      },
      "cell_type": "code",
      "source": [
        "# スコアが高い人(左の方)に介入した方がコンバージョンあげやすいと言える\n",
        "qdf.plot.bar()\n",
        "plt.xlabel('uplift score percentile')\n",
        "plt.ylabel('cvr')\n",
        "plt.show()"
      ],
      "execution_count": 0,
      "outputs": [
        {
          "output_type": "display_data",
          "data": {
            "image/png": "[encoded data removed]",
            "text/plain": [
              "<Figure size 432x288 with 1 Axes>"
            ]
          },
          "metadata": {
            "tags": []
          }
        }
      ]
    },
    {
      "metadata": {
        "id": "nVxDNs1ezKCp",
        "colab_type": "text"
      },
      "cell_type": "markdown",
      "source": [
        "#### AUUCの計算"
      ]
    },
    {
      "metadata": {
        "id": "pbd0JfWjw-bX",
        "colab_type": "code",
        "outputId": "c432dc3f-02b6-4161-fb6c-30a4a5f71716",
        "colab": {
          "base_uri": "https://localhost:8080/",
          "height": 204
        }
      },
      "cell_type": "code",
      "source": [
        "treat_uu = 0\n",
        "control_uu = 0\n",
        "treat_cv = 0\n",
        "control_cv = 0\n",
        "treat_cvr = 0.0\n",
        "control_cvr = 0.0\n",
        "lift = 0.0\n",
        "\n",
        "stat_data = []\n",
        "\n",
        "for is_cv, is_treat, score in result:\n",
        "    if is_treat:\n",
        "        treat_uu += 1\n",
        "        if is_cv:\n",
        "            treat_cv += 1\n",
        "        treat_cvr = treat_cv / treat_uu\n",
        "    else:\n",
        "        control_uu += 1\n",
        "        if is_cv:\n",
        "            control_cv += 1\n",
        "        control_cvr = control_cv / control_uu\n",
        "        \n",
        "    # liftの算出\n",
        "    # 実験群がどれくらいの人数コンバージョンを変化させたか\n",
        "    lift = (treat_cvr - control_cvr) * treat_uu\n",
        "    \n",
        "    stat_data.append([is_cv, is_treat, score, treat_uu, control_uu,\n",
        "                     treat_cv, control_cv, treat_cvr, control_cvr, lift])\n",
        "\n",
        "df = pd.DataFrame(stat_data)\n",
        "\n",
        "df.columns = [\n",
        "    'is_cv', 'is_treat', 'score', 'treat_uu', 'control_uu'\n",
        "    , 'treat_cv', 'control_cv', 'treat_cvr', 'control_cvr', 'lift'\n",
        "]\n",
        "\n",
        "# base lineを加える liftの終点についてデータの長さで割った数が各点になる\n",
        "df['base_line'] = df.index * df['lift'][len(df.index) - 1] / len(df.index)\n",
        "\n",
        "df.tail()"
      ],
      "execution_count": 0,
      "outputs": [
        {
          "output_type": "execute_result",
          "data": {
            "text/html": [
              "<div>\n",
              "<style scoped>\n",
              "    .dataframe tbody tr th:only-of-type {\n",
              "        vertical-align: middle;\n",
              "    }\n",
              "\n",
              "    .dataframe tbody tr th {\n",
              "        vertical-align: top;\n",
              "    }\n",
              "\n",
              "    .dataframe thead th {\n",
              "        text-align: right;\n",
              "    }\n",
              "</style>\n",
              "<table border=\"1\" class=\"dataframe\">\n",
              "  <thead>\n",
              "    <tr style=\"text-align: right;\">\n",
              "      <th></th>\n",
              "      <th>is_cv</th>\n",
              "      <th>is_treat</th>\n",
              "      <th>score</th>\n",
              "      <th>treat_uu</th>\n",
              "      <th>control_uu</th>\n",
              "      <th>treat_cv</th>\n",
              "      <th>control_cv</th>\n",
              "      <th>treat_cvr</th>\n",
              "      <th>control_cvr</th>\n",
              "      <th>lift</th>\n",
              "      <th>base_line</th>\n",
              "    </tr>\n",
              "  </thead>\n",
              "  <tbody>\n",
              "    <tr>\n",
              "      <th>9995</th>\n",
              "      <td>False</td>\n",
              "      <td>True</td>\n",
              "      <td>0.798062</td>\n",
              "      <td>4908</td>\n",
              "      <td>5088</td>\n",
              "      <td>161</td>\n",
              "      <td>163</td>\n",
              "      <td>0.032804</td>\n",
              "      <td>0.032036</td>\n",
              "      <td>3.766509</td>\n",
              "      <td>3.762361</td>\n",
              "    </tr>\n",
              "    <tr>\n",
              "      <th>9996</th>\n",
              "      <td>False</td>\n",
              "      <td>False</td>\n",
              "      <td>0.797344</td>\n",
              "      <td>4908</td>\n",
              "      <td>5089</td>\n",
              "      <td>161</td>\n",
              "      <td>163</td>\n",
              "      <td>0.032804</td>\n",
              "      <td>0.032030</td>\n",
              "      <td>3.797406</td>\n",
              "      <td>3.762738</td>\n",
              "    </tr>\n",
              "    <tr>\n",
              "      <th>9997</th>\n",
              "      <td>False</td>\n",
              "      <td>True</td>\n",
              "      <td>0.795940</td>\n",
              "      <td>4909</td>\n",
              "      <td>5089</td>\n",
              "      <td>161</td>\n",
              "      <td>163</td>\n",
              "      <td>0.032797</td>\n",
              "      <td>0.032030</td>\n",
              "      <td>3.765376</td>\n",
              "      <td>3.763114</td>\n",
              "    </tr>\n",
              "    <tr>\n",
              "      <th>9998</th>\n",
              "      <td>False</td>\n",
              "      <td>False</td>\n",
              "      <td>0.793056</td>\n",
              "      <td>4909</td>\n",
              "      <td>5090</td>\n",
              "      <td>161</td>\n",
              "      <td>163</td>\n",
              "      <td>0.032797</td>\n",
              "      <td>0.032024</td>\n",
              "      <td>3.796267</td>\n",
              "      <td>3.763491</td>\n",
              "    </tr>\n",
              "    <tr>\n",
              "      <th>9999</th>\n",
              "      <td>False</td>\n",
              "      <td>True</td>\n",
              "      <td>0.791288</td>\n",
              "      <td>4910</td>\n",
              "      <td>5090</td>\n",
              "      <td>161</td>\n",
              "      <td>163</td>\n",
              "      <td>0.032790</td>\n",
              "      <td>0.032024</td>\n",
              "      <td>3.764244</td>\n",
              "      <td>3.763867</td>\n",
              "    </tr>\n",
              "  </tbody>\n",
              "</table>\n",
              "</div>"
            ],
            "text/plain": [
              "      is_cv  is_treat     score  treat_uu  control_uu  treat_cv  control_cv  \\\n",
              "9995  False      True  0.798062      4908        5088       161         163   \n",
              "9996  False     False  0.797344      4908        5089       161         163   \n",
              "9997  False      True  0.795940      4909        5089       161         163   \n",
              "9998  False     False  0.793056      4909        5090       161         163   \n",
              "9999  False      True  0.791288      4910        5090       161         163   \n",
              "\n",
              "      treat_cvr  control_cvr      lift  base_line  \n",
              "9995   0.032804     0.032036  3.766509   3.762361  \n",
              "9996   0.032804     0.032030  3.797406   3.762738  \n",
              "9997   0.032797     0.032030  3.765376   3.763114  \n",
              "9998   0.032797     0.032024  3.796267   3.763491  \n",
              "9999   0.032790     0.032024  3.764244   3.763867  "
            ]
          },
          "metadata": {
            "tags": []
          },
          "execution_count": 121
        }
      ]
    },
    {
      "metadata": {
        "id": "coPIstNtzYMM",
        "colab_type": "code",
        "outputId": "70316782-9dc3-42b6-f139-f390f6dff039",
        "colab": {
          "base_uri": "https://localhost:8080/",
          "height": 286
        }
      },
      "cell_type": "code",
      "source": [
        "df.plot(y=['treat_cv', 'control_cv'],)\n",
        "plt.xlabel('uplist score rank')\n",
        "plt.ylabel('cv count')\n",
        "plt.show()"
      ],
      "execution_count": 0,
      "outputs": [
        {
          "output_type": "display_data",
          "data": {
            "image/png": "[encoded data removed]",
            "text/plain": [
              "<Figure size 432x288 with 1 Axes>"
            ]
          },
          "metadata": {
            "tags": []
          }
        }
      ]
    },
    {
      "metadata": {
        "id": "Nx_hP2fN9Tpn",
        "colab_type": "code",
        "outputId": "ed03f58a-8e43-4855-fc63-c776f4b06628",
        "colab": {
          "base_uri": "https://localhost:8080/",
          "height": 286
        }
      },
      "cell_type": "code",
      "source": [
        "df.plot(y=['treat_cvr', 'control_cvr'],)\n",
        "plt.xlabel('uplist score rank')\n",
        "plt.ylabel('cvr')\n",
        "plt.show()"
      ],
      "execution_count": 0,
      "outputs": [
        {
          "output_type": "display_data",
          "data": {
            "image/png": "[encoded data removed]",
            "text/plain": [
              "<Figure size 432x288 with 1 Axes>"
            ]
          },
          "metadata": {
            "tags": []
          }
        }
      ]
    },
    {
      "metadata": {
        "id": "ZUNuMeG-9V-7",
        "colab_type": "code",
        "outputId": "4ddb8983-5a67-43f4-e5e6-0e7eb4c68c9f",
        "colab": {
          "base_uri": "https://localhost:8080/",
          "height": 286
        }
      },
      "cell_type": "code",
      "source": [
        "# スコア高い順なので、最後の方は、統制群が勝ち、cv liftは下がる\n",
        "df.plot(y=['lift', 'base_line'],)\n",
        "plt.xlabel('uplist score rank')\n",
        "plt.ylabel('cv lift')\n",
        "plt.show()"
      ],
      "execution_count": 0,
      "outputs": [
        {
          "output_type": "display_data",
          "data": {
            "image/png": "[encoded data removed]",
            "text/plain": [
              "<Figure size 432x288 with 1 Axes>"
            ]
          },
          "metadata": {
            "tags": []
          }
        }
      ]
    },
    {
      "metadata": {
        "id": "j09ZNqbf-KQX",
        "colab_type": "code",
        "outputId": "ea1ad025-dc77-4982-d6f4-f632adc27cb6",
        "colab": {
          "base_uri": "https://localhost:8080/",
          "height": 34
        }
      },
      "cell_type": "code",
      "source": [
        "auuc = (df['lift'] - df['base_line']).sum() / len(df['lift'])\n",
        "print('AUUC:', auuc)"
      ],
      "execution_count": 0,
      "outputs": [
        {
          "output_type": "stream",
          "text": [
            "AUUC: 18.79132546971009\n"
          ],
          "name": "stdout"
        }
      ]
    },
    {
      "metadata": {
        "id": "PbKGLd9dAFEN",
        "colab_type": "code",
        "outputId": "1bab480f-f38c-47dc-d481-0b6907266acf",
        "colab": {
          "base_uri": "https://localhost:8080/",
          "height": 286
        }
      },
      "cell_type": "code",
      "source": [
        "# どのスコアのユーザを対象とすれば良いか\n",
        "df.plot(x='score', y=['lift', 'base_line'])\n",
        "plt.xlabel('uplift score')\n",
        "plt.ylabel('cv lift')\n",
        "plt.show()"
      ],
      "execution_count": 0,
      "outputs": [
        {
          "output_type": "display_data",
          "data": {
            "image/png": "[encoded data removed]",
            "text/plain": [
              "<Figure size 432x288 with 1 Axes>"
            ]
          },
          "metadata": {
            "tags": []
          }
        }
      ]
    },
    {
      "metadata": {
        "id": "juF8cb0lB8Mk",
        "colab_type": "code",
        "colab": {}
      },
      "cell_type": "code",
      "source": [
        ""
      ],
      "execution_count": 0,
      "outputs": []
    }
  ]
}